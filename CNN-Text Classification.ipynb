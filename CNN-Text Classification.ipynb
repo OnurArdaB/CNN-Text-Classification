{
  "nbformat": 4,
  "nbformat_minor": 0,
  "metadata": {
    "colab": {
      "name": "project03_NBLG.ipynb",
      "provenance": [],
      "collapsed_sections": [
        "eIbTphW_NifS",
        "2Cm4IK4yRwPZ",
        "fIOgPOhmSYRV"
      ],
      "toc_visible": true
    },
    "kernelspec": {
      "display_name": "Python 3",
      "name": "python3"
    }
  },
  "cells": [
    {
      "cell_type": "markdown",
      "metadata": {
        "id": "0HP0xnCKMtNH"
      },
      "source": [
        "# Text Classification using Neural Networks"
      ]
    },
    {
      "cell_type": "markdown",
      "metadata": {
        "id": "XhFoo4yPRhZa"
      },
      "source": [
        "<img class=\" lazyloaded\" data-src=\"https://bloopglobal.com/wp-content/uploads/2020/11/interactive-presentation-header-1.gif\" alt=\"\" title=\"interactive-presentation-header\" src=\"https://bloopglobal.com/wp-content/uploads/2020/11/interactive-presentation-header-1.gif\">"
      ]
    },
    {
      "cell_type": "markdown",
      "metadata": {
        "id": "X2TA7edpNAcm"
      },
      "source": [
        "In this project certain classification algorithms will be applied to the given dataset in order to evaluate their performances on different conditions."
      ]
    },
    {
      "cell_type": "code",
      "metadata": {
        "colab": {
          "base_uri": "https://localhost:8080/"
        },
        "id": "og5U8A_LMdL5",
        "outputId": "ed35793b-4454-41b7-c289-c0893f7b54c7"
      },
      "source": [
        " from google.colab import drive\n",
        "drive.mount(\"gdrive\")"
      ],
      "execution_count": 2,
      "outputs": [
        {
          "output_type": "stream",
          "text": [
            "Drive already mounted at gdrive; to attempt to forcibly remount, call drive.mount(\"gdrive\", force_remount=True).\n"
          ],
          "name": "stdout"
        }
      ]
    },
    {
      "cell_type": "markdown",
      "metadata": {
        "id": "eIbTphW_NifS"
      },
      "source": [
        "## Importing Necessary Libraries and Frameworks"
      ]
    },
    {
      "cell_type": "markdown",
      "metadata": {
        "id": "y5X0dfesNoGb"
      },
      "source": [
        "This procedure is done in only one cell for the sake of simplicity and better representation. Sklearn will used in order to train and test different machine learning algorithms on the provided dataset. Pandas will be used in order to obtain observable dataframes and matplotlib.pyplot will be used for plotting operations regarding on the dataset."
      ]
    },
    {
      "cell_type": "code",
      "metadata": {
        "id": "WXUW5tp7Nwxa"
      },
      "source": [
        "from sklearn.model_selection import train_test_split,cross_val_score,GridSearchCV,KFold\n",
        "from sklearn.metrics import auc,classification_report,RocCurveDisplay,f1_score,accuracy_score,plot_confusion_matrix,confusion_matrix\n",
        "from sklearn.naive_bayes import GaussianNB,MultinomialNB\n",
        "from sklearn.linear_model import LogisticRegression\n",
        "from sklearn.feature_extraction.text import CountVectorizer,TfidfVectorizer\n",
        "from sklearn.pipeline import make_pipeline\n",
        "\n",
        "import gensim.downloader\n",
        "import nltk\n",
        "import string \n",
        "import pandas as pd\n",
        "import numpy as np\n",
        "import matplotlib.pyplot as plt\n",
        "!pip install -q --upgrade ipython\n",
        "!pip install -q --upgrade ipykernel"
      ],
      "execution_count": 3,
      "outputs": []
    },
    {
      "cell_type": "markdown",
      "metadata": {
        "id": "2Cm4IK4yRwPZ"
      },
      "source": [
        "## Importing dataset"
      ]
    },
    {
      "cell_type": "code",
      "metadata": {
        "id": "bOqyefxJ5Rpm"
      },
      "source": [
        "PATH = \"/content/gdrive/MyDrive/CS-445\""
      ],
      "execution_count": 4,
      "outputs": []
    },
    {
      "cell_type": "code",
      "metadata": {
        "colab": {
          "base_uri": "https://localhost:8080/",
          "height": 0
        },
        "id": "OE78b1cDR-gB",
        "outputId": "27dcd290-4d06-4caf-bea4-2112e4c39efa"
      },
      "source": [
        "train_df = pd.read_csv(PATH+\"/train.csv\",index_col=0)\n",
        "train_df.head(-1)"
      ],
      "execution_count": 5,
      "outputs": [
        {
          "output_type": "execute_result",
          "data": {
            "text/html": [
              "<div>\n",
              "<style scoped>\n",
              "    .dataframe tbody tr th:only-of-type {\n",
              "        vertical-align: middle;\n",
              "    }\n",
              "\n",
              "    .dataframe tbody tr th {\n",
              "        vertical-align: top;\n",
              "    }\n",
              "\n",
              "    .dataframe thead th {\n",
              "        text-align: right;\n",
              "    }\n",
              "</style>\n",
              "<table border=\"1\" class=\"dataframe\">\n",
              "  <thead>\n",
              "    <tr style=\"text-align: right;\">\n",
              "      <th></th>\n",
              "      <th>id</th>\n",
              "      <th>text</th>\n",
              "      <th>label</th>\n",
              "    </tr>\n",
              "  </thead>\n",
              "  <tbody>\n",
              "    <tr>\n",
              "      <th>0</th>\n",
              "      <td>547530</td>\n",
              "      <td>Beşiktaş'ın eski teknik direktörü Slaven Bilic...</td>\n",
              "      <td>spor</td>\n",
              "    </tr>\n",
              "    <tr>\n",
              "      <th>1</th>\n",
              "      <td>42683</td>\n",
              "      <td>14 Şubat, Katolik Kilisesi’nin azizlerinden St...</td>\n",
              "      <td>yazarlar</td>\n",
              "    </tr>\n",
              "    <tr>\n",
              "      <th>2</th>\n",
              "      <td>770925</td>\n",
              "      <td>İstanbul Kağıthane’de gece yarısı sokakta oyun...</td>\n",
              "      <td>video</td>\n",
              "    </tr>\n",
              "    <tr>\n",
              "      <th>3</th>\n",
              "      <td>473224</td>\n",
              "      <td>Ziraat Türkiye Kupası maçında deplasmanda Amed...</td>\n",
              "      <td>video</td>\n",
              "    </tr>\n",
              "    <tr>\n",
              "      <th>4</th>\n",
              "      <td>44833</td>\n",
              "      <td>Eski Brezilyalı yıldız oyuncu Ronaldo, Brezily...</td>\n",
              "      <td>spor</td>\n",
              "    </tr>\n",
              "    <tr>\n",
              "      <th>...</th>\n",
              "      <td>...</td>\n",
              "      <td>...</td>\n",
              "      <td>...</td>\n",
              "    </tr>\n",
              "    <tr>\n",
              "      <th>7994</th>\n",
              "      <td>812733</td>\n",
              "      <td>Çanakkale’den “Herkes İçin Adalet” diye seslen...</td>\n",
              "      <td>yazarlar</td>\n",
              "    </tr>\n",
              "    <tr>\n",
              "      <th>7995</th>\n",
              "      <td>786591</td>\n",
              "      <td>Eskişehirspor Yönetimi, teknik direktörlük gör...</td>\n",
              "      <td>spor</td>\n",
              "    </tr>\n",
              "    <tr>\n",
              "      <th>7996</th>\n",
              "      <td>144257</td>\n",
              "      <td>UEFA Disiplin Kurulu, Borussia Dortmund-Galata...</td>\n",
              "      <td>spor</td>\n",
              "    </tr>\n",
              "    <tr>\n",
              "      <th>7997</th>\n",
              "      <td>675701</td>\n",
              "      <td>Rusya Federasyon Konseyi Uluslararası İlişkile...</td>\n",
              "      <td>dunya</td>\n",
              "    </tr>\n",
              "    <tr>\n",
              "      <th>7998</th>\n",
              "      <td>680725</td>\n",
              "      <td>Rusya’nın BM Büyükelçisi Vitaly Çurkin New Yor...</td>\n",
              "      <td>dunya</td>\n",
              "    </tr>\n",
              "  </tbody>\n",
              "</table>\n",
              "<p>7999 rows × 3 columns</p>\n",
              "</div>"
            ],
            "text/plain": [
              "          id                                               text     label\n",
              "0     547530  Beşiktaş'ın eski teknik direktörü Slaven Bilic...      spor\n",
              "1      42683  14 Şubat, Katolik Kilisesi’nin azizlerinden St...  yazarlar\n",
              "2     770925  İstanbul Kağıthane’de gece yarısı sokakta oyun...     video\n",
              "3     473224  Ziraat Türkiye Kupası maçında deplasmanda Amed...     video\n",
              "4      44833  Eski Brezilyalı yıldız oyuncu Ronaldo, Brezily...      spor\n",
              "...      ...                                                ...       ...\n",
              "7994  812733  Çanakkale’den “Herkes İçin Adalet” diye seslen...  yazarlar\n",
              "7995  786591  Eskişehirspor Yönetimi, teknik direktörlük gör...      spor\n",
              "7996  144257  UEFA Disiplin Kurulu, Borussia Dortmund-Galata...      spor\n",
              "7997  675701  Rusya Federasyon Konseyi Uluslararası İlişkile...     dunya\n",
              "7998  680725  Rusya’nın BM Büyükelçisi Vitaly Çurkin New Yor...     dunya\n",
              "\n",
              "[7999 rows x 3 columns]"
            ]
          },
          "metadata": {
            "tags": []
          },
          "execution_count": 5
        }
      ]
    },
    {
      "cell_type": "code",
      "metadata": {
        "colab": {
          "base_uri": "https://localhost:8080/",
          "height": 0
        },
        "id": "9tt3IMzjSJXf",
        "outputId": "1b5db802-1e72-40c4-eb17-a7c556a1b3ad"
      },
      "source": [
        "test_df = pd.read_csv(PATH+\"/test.csv\",index_col=0)\n",
        "test_df.head(-1)"
      ],
      "execution_count": 6,
      "outputs": [
        {
          "output_type": "execute_result",
          "data": {
            "text/html": [
              "<div>\n",
              "<style scoped>\n",
              "    .dataframe tbody tr th:only-of-type {\n",
              "        vertical-align: middle;\n",
              "    }\n",
              "\n",
              "    .dataframe tbody tr th {\n",
              "        vertical-align: top;\n",
              "    }\n",
              "\n",
              "    .dataframe thead th {\n",
              "        text-align: right;\n",
              "    }\n",
              "</style>\n",
              "<table border=\"1\" class=\"dataframe\">\n",
              "  <thead>\n",
              "    <tr style=\"text-align: right;\">\n",
              "      <th></th>\n",
              "      <th>id</th>\n",
              "      <th>text</th>\n",
              "      <th>label</th>\n",
              "    </tr>\n",
              "  </thead>\n",
              "  <tbody>\n",
              "    <tr>\n",
              "      <th>0</th>\n",
              "      <td>416549</td>\n",
              "      <td>\"Filmimde oynadı ama 32 yıldır görmüyordum abi...</td>\n",
              "      <td>video</td>\n",
              "    </tr>\n",
              "    <tr>\n",
              "      <th>1</th>\n",
              "      <td>462801</td>\n",
              "      <td>Katalonya'nın yeni Başkanı Carles Puigdemont, ...</td>\n",
              "      <td>dunya</td>\n",
              "    </tr>\n",
              "    <tr>\n",
              "      <th>2</th>\n",
              "      <td>114173</td>\n",
              "      <td>İstanbul Avcılar'da E-5 üzerinde bir yakıt tan...</td>\n",
              "      <td>video</td>\n",
              "    </tr>\n",
              "    <tr>\n",
              "      <th>3</th>\n",
              "      <td>458380</td>\n",
              "      <td>CNN Türk muhabiri emniyet kemeri haberi yapmak...</td>\n",
              "      <td>video</td>\n",
              "    </tr>\n",
              "    <tr>\n",
              "      <th>4</th>\n",
              "      <td>287566</td>\n",
              "      <td>\\n\\n\\n \\nCumhurbaşkanı Gül yasama yılını açark...</td>\n",
              "      <td>yazarlar</td>\n",
              "    </tr>\n",
              "    <tr>\n",
              "      <th>...</th>\n",
              "      <td>...</td>\n",
              "      <td>...</td>\n",
              "      <td>...</td>\n",
              "    </tr>\n",
              "    <tr>\n",
              "      <th>1994</th>\n",
              "      <td>51087</td>\n",
              "      <td>Almanya'nın Köln kentinde, Köln Türkiye Gençli...</td>\n",
              "      <td>video</td>\n",
              "    </tr>\n",
              "    <tr>\n",
              "      <th>1995</th>\n",
              "      <td>318095</td>\n",
              "      <td>Turkish Airlines Euroleague'deki temsilcilerim...</td>\n",
              "      <td>spor</td>\n",
              "    </tr>\n",
              "    <tr>\n",
              "      <th>1996</th>\n",
              "      <td>283607</td>\n",
              "      <td>Akıl Oyunları filmine ilham veren ünlü matemat...</td>\n",
              "      <td>dunya</td>\n",
              "    </tr>\n",
              "    <tr>\n",
              "      <th>1997</th>\n",
              "      <td>244760</td>\n",
              "      <td>Eski ÖSYM Başkanı Ali Demir KPSS soruşturması ...</td>\n",
              "      <td>turkiye</td>\n",
              "    </tr>\n",
              "    <tr>\n",
              "      <th>1998</th>\n",
              "      <td>561235</td>\n",
              "      <td>Atatürk Havalimanı katliamından sonra bir gün ...</td>\n",
              "      <td>yazarlar</td>\n",
              "    </tr>\n",
              "  </tbody>\n",
              "</table>\n",
              "<p>1999 rows × 3 columns</p>\n",
              "</div>"
            ],
            "text/plain": [
              "          id                                               text     label\n",
              "0     416549  \"Filmimde oynadı ama 32 yıldır görmüyordum abi...     video\n",
              "1     462801  Katalonya'nın yeni Başkanı Carles Puigdemont, ...     dunya\n",
              "2     114173  İstanbul Avcılar'da E-5 üzerinde bir yakıt tan...     video\n",
              "3     458380  CNN Türk muhabiri emniyet kemeri haberi yapmak...     video\n",
              "4     287566  \\n\\n\\n \\nCumhurbaşkanı Gül yasama yılını açark...  yazarlar\n",
              "...      ...                                                ...       ...\n",
              "1994   51087  Almanya'nın Köln kentinde, Köln Türkiye Gençli...     video\n",
              "1995  318095  Turkish Airlines Euroleague'deki temsilcilerim...      spor\n",
              "1996  283607  Akıl Oyunları filmine ilham veren ünlü matemat...     dunya\n",
              "1997  244760  Eski ÖSYM Başkanı Ali Demir KPSS soruşturması ...   turkiye\n",
              "1998  561235  Atatürk Havalimanı katliamından sonra bir gün ...  yazarlar\n",
              "\n",
              "[1999 rows x 3 columns]"
            ]
          },
          "metadata": {
            "tags": []
          },
          "execution_count": 6
        }
      ]
    },
    {
      "cell_type": "markdown",
      "metadata": {
        "id": "o_Rh1QgtSODI"
      },
      "source": [
        "## Metadata about the dataset"
      ]
    },
    {
      "cell_type": "markdown",
      "metadata": {
        "id": "fIOgPOhmSYRV"
      },
      "source": [
        "###Train Data"
      ]
    },
    {
      "cell_type": "code",
      "metadata": {
        "colab": {
          "base_uri": "https://localhost:8080/"
        },
        "id": "mWth_ZncSV9e",
        "outputId": "8fcbbf0a-3794-4047-f68b-abe4595cd2be"
      },
      "source": [
        "train_df.info()"
      ],
      "execution_count": 7,
      "outputs": [
        {
          "output_type": "stream",
          "text": [
            "<class 'pandas.core.frame.DataFrame'>\n",
            "Int64Index: 8000 entries, 0 to 7999\n",
            "Data columns (total 3 columns):\n",
            " #   Column  Non-Null Count  Dtype \n",
            "---  ------  --------------  ----- \n",
            " 0   id      8000 non-null   int64 \n",
            " 1   text    8000 non-null   object\n",
            " 2   label   8000 non-null   object\n",
            "dtypes: int64(1), object(2)\n",
            "memory usage: 250.0+ KB\n"
          ],
          "name": "stdout"
        }
      ]
    },
    {
      "cell_type": "code",
      "metadata": {
        "colab": {
          "base_uri": "https://localhost:8080/"
        },
        "id": "agAzWnb3Sd3z",
        "outputId": "13a81b8d-1e07-4b14-c3bf-1981e993e021"
      },
      "source": [
        "train_df.label.value_counts()"
      ],
      "execution_count": 8,
      "outputs": [
        {
          "output_type": "execute_result",
          "data": {
            "text/plain": [
              "turkiye     1630\n",
              "dunya       1606\n",
              "yazarlar    1599\n",
              "spor        1583\n",
              "video       1582\n",
              "Name: label, dtype: int64"
            ]
          },
          "metadata": {
            "tags": []
          },
          "execution_count": 8
        }
      ]
    },
    {
      "cell_type": "code",
      "metadata": {
        "colab": {
          "base_uri": "https://localhost:8080/"
        },
        "id": "5RID-QyQSg85",
        "outputId": "5ae8909e-62df-4c5b-9241-892bec9967e1"
      },
      "source": [
        "train_df.isnull().sum(axis = 0)"
      ],
      "execution_count": 9,
      "outputs": [
        {
          "output_type": "execute_result",
          "data": {
            "text/plain": [
              "id       0\n",
              "text     0\n",
              "label    0\n",
              "dtype: int64"
            ]
          },
          "metadata": {
            "tags": []
          },
          "execution_count": 9
        }
      ]
    },
    {
      "cell_type": "markdown",
      "metadata": {
        "id": "rQk94OiI7Xek"
      },
      "source": [
        "###Test Data"
      ]
    },
    {
      "cell_type": "code",
      "metadata": {
        "colab": {
          "base_uri": "https://localhost:8080/"
        },
        "id": "VfxLBtge7Xek",
        "outputId": "0f9b7ef2-94c6-4a52-8773-936dee4a9809"
      },
      "source": [
        "test_df.info()"
      ],
      "execution_count": 10,
      "outputs": [
        {
          "output_type": "stream",
          "text": [
            "<class 'pandas.core.frame.DataFrame'>\n",
            "Int64Index: 2000 entries, 0 to 1999\n",
            "Data columns (total 3 columns):\n",
            " #   Column  Non-Null Count  Dtype \n",
            "---  ------  --------------  ----- \n",
            " 0   id      2000 non-null   int64 \n",
            " 1   text    2000 non-null   object\n",
            " 2   label   2000 non-null   object\n",
            "dtypes: int64(1), object(2)\n",
            "memory usage: 62.5+ KB\n"
          ],
          "name": "stdout"
        }
      ]
    },
    {
      "cell_type": "code",
      "metadata": {
        "colab": {
          "base_uri": "https://localhost:8080/"
        },
        "id": "Mel7s7uC7Xel",
        "outputId": "df377b52-bbc2-471f-a00e-2f7b3be5318b"
      },
      "source": [
        "test_df.label.value_counts()"
      ],
      "execution_count": 11,
      "outputs": [
        {
          "output_type": "execute_result",
          "data": {
            "text/plain": [
              "turkiye     421\n",
              "video       408\n",
              "dunya       395\n",
              "yazarlar    392\n",
              "spor        384\n",
              "Name: label, dtype: int64"
            ]
          },
          "metadata": {
            "tags": []
          },
          "execution_count": 11
        }
      ]
    },
    {
      "cell_type": "code",
      "metadata": {
        "colab": {
          "base_uri": "https://localhost:8080/"
        },
        "id": "XZTU5nOM7Xel",
        "outputId": "e7335c1b-0de4-48a8-a2ed-4a76a150f774"
      },
      "source": [
        "test_df.isnull().sum(axis = 0)"
      ],
      "execution_count": 12,
      "outputs": [
        {
          "output_type": "execute_result",
          "data": {
            "text/plain": [
              "id       0\n",
              "text     0\n",
              "label    0\n",
              "dtype: int64"
            ]
          },
          "metadata": {
            "tags": []
          },
          "execution_count": 12
        }
      ]
    },
    {
      "cell_type": "markdown",
      "metadata": {
        "id": "EuTl4AyQ7lYf"
      },
      "source": [
        "## Pre-processing"
      ]
    },
    {
      "cell_type": "markdown",
      "metadata": {
        "id": "GmmddFc9pKjz"
      },
      "source": [
        "<img width=\"800\" height=\"400\" src=\"https://thelastbyteblog.files.wordpress.com/2020/06/data-scrubbing-service.gif?w=800\" class=\"attachment-post-thumbnail size-post-thumbnail wp-post-image\" alt=\"\" loading=\"lazy\" data-attachment-id=\"296\" data-permalink=\"https://thelastbyteblog.wordpress.com/2020/06/15/beginners-guide-to-data-preprocessing-in-machine-learning/data-scrubbing-service/\" data-orig-file=\"https://thelastbyteblog.files.wordpress.com/2020/06/data-scrubbing-service.gif\" data-orig-size=\"800,400\" data-comments-opened=\"1\" data-image-meta=\"{&quot;aperture&quot;:&quot;0&quot;,&quot;credit&quot;:&quot;&quot;,&quot;camera&quot;:&quot;&quot;,&quot;caption&quot;:&quot;&quot;,&quot;created_timestamp&quot;:&quot;0&quot;,&quot;copyright&quot;:&quot;&quot;,&quot;focal_length&quot;:&quot;0&quot;,&quot;iso&quot;:&quot;0&quot;,&quot;shutter_speed&quot;:&quot;0&quot;,&quot;title&quot;:&quot;&quot;,&quot;orientation&quot;:&quot;0&quot;}\" data-image-title=\"data-scrubbing-service\" data-image-description=\"\" data-medium-file=\"https://thelastbyteblog.files.wordpress.com/2020/06/data-scrubbing-service.gif?w=300\" data-large-file=\"https://thelastbyteblog.files.wordpress.com/2020/06/data-scrubbing-service.gif?w=750\">"
      ]
    },
    {
      "cell_type": "markdown",
      "metadata": {
        "id": "uXMyqLaN7qmS"
      },
      "source": [
        "There are few options of preprocessing which would allow any ML model to work better. These operations are mainly done on assumptions regarding on the dataset such that the removed words would not have significant effect on identifiying the specific classes.\n",
        "\n",
        "\n",
        "*   Punctuation removal ✔️\n",
        "*   Lower casing ✔️\n",
        "*   Stopwords removal ✔️\n",
        "*   Stemming or lemmatization (no built-in package) ❌\n",
        "*   Unnecessary number removal (Capture by regex) ✔️\n",
        "\n"
      ]
    },
    {
      "cell_type": "markdown",
      "metadata": {
        "id": "WibBV0mmC8Tx"
      },
      "source": [
        "Samples from the dataset."
      ]
    },
    {
      "cell_type": "code",
      "metadata": {
        "colab": {
          "base_uri": "https://localhost:8080/"
        },
        "id": "fImX14MpC5B7",
        "outputId": "db612c25-8b67-4077-f2af-da212237ee11"
      },
      "source": [
        "for index, row in train_df.iterrows():\n",
        "    if(index==5):\n",
        "      break\n",
        "    print(row[1])\n",
        "    print(\"\\n\")"
      ],
      "execution_count": 13,
      "outputs": [
        {
          "output_type": "stream",
          "text": [
            "Beşiktaş'ın eski teknik direktörü Slaven Bilic, Türkiye-Hırvatistan maçında yorumculuk yapmak üzere Lig TV ile anlaştı.\n",
            "EURO 2016'nın yayıncı kuruluşlarından biri olan Lig TV, Türkiye'nin D Grubu'nda Hırvatistan ile oynayacağı ilk maç için Slaven Bilic ile anlaşıldığını duyurdu.\n",
            "Beşiktaş'ın eski teknik direktörü Slaven Bilic, 12 Haziran Pazar günü TSİ 16:00'da başlayacak mücadelede yorumcu olacak.\n",
            "Lig TV, Slaven Bilic'in yanı sıra A Milli Takım'ın efsane kalecilerinden Rüştü Reçber'in de bu karşılaşmanın yorumcularından biri olacağını açıkladı.\n",
            "EURO 2008'de Hırvatistan'ın teknik direktörü olan Slaven Bilic, çeyrek finalde Türkiye'ye rakip olmuş ve 120 dakikası 1-1 biten maçta A Milli Takımımıza penaltılarda elenmişti.\n",
            "\n",
            "\n",
            "14 Şubat, Katolik Kilisesi’nin azizlerinden St. Valentine’e adanmış bir gün. “Valentine”in sevgili anlamına gelmesinden olsa gerek “Sevgililer Günü”ne dönüşmüş. 1800’lü yıllarda Amerikalı Esther Howland’ın ilk Sevgililer Günü kartını yollamasıyla yeni bir biçim almış. İlk zamanlar sevgililerin birbirlerine kartlarla mesajlar yollamasını özendiren, günü sevgililerin birlikte geçirmesini sağlayan etkinlikler yapılmış. Hediye alıp verilmeye başlanınca da bir tüketim çılgınlığına dönüştürülmüş. \n",
            " Türkiye’de Sevgililer Günü’nün öncüsü olarak Hıncal Uluç biliniyor. Uluç, Sevgililer Günü’nden ilk kez 1977’de o zamanki Amerikalı eşi vesilesi ile söz etmiş. Ülkemizde 90’lı yıllardan itibaren yaygın olarak kutlanmaya başlamış. Anneler ya da Babalar Günü gibi tüketimi özendirmek amacıyla desteklenen bir gün. Sevgililer Günü’ne iki temel eleştiri var. Biri, Hıristiyan kökenli olduğu için Müslümanlarca kutlanmasının doğru olmadığı. Sevgililer Günü denince akla St. Valentine gelmiyor. Zaten 469 yılında Papa’nın ilan ettiği bu anma 1969’da kilise takviminden çıkarılmış. Yani 14 Şubat’ın dini niteliği kalmamış. \n",
            " İkinci eleştiri Sevgililer Günü’nün amacının sadece tüketimi özendirmek olduğu düşüncesi. Haklı bir eleştiri, bugünün kutlanmasının tüketimi özendirmek ve artırmaktan başka bir amacı yok.\n",
            " 14 Şubat’ta sadece Sevgililer Günü kutlanmıyor. Uluslararası Kitap Değişimi Günü, Kütüphane Severler Günü ve Dünya Öykü Günü de 14 Şubat’ta kutlanan günlerden. \n",
            " Dünya Öykü Günü’nü düşünüp öneren öykücü Özcan Karabulut’tur.Özcan Karabulut iyi bir öykücü olmasının yanında bir öykü sevdalısıdır, öykünün daha çok okunup benimsenmesi için elinden gelen her şeyi yapar. Öykü dergileri yayıncılığı ile başlayan çabası, Ankara Öykü Günleri ile gelişti, sonunda da “Dünya Öykü Günü” önerisine vardı. \n",
            " Özcan Karabulut Türkiye’de bugünün kutlanmasına önayak olmakla kalmadı, dünya çapında kutlanması için de çalışmalar yaptı. 2003 yılında Türkiye PEN’in önerisi ile Uluslararası PEN Genel Kurulu’nda 14 Şubat “Dünya Öykü Günü” olarak kabul edildi. İkinci ve önemli aşama günün UNESCO tarafından kabul edilmesiydi. Ama UNESCO Genel Kurulu’nda 14 Şubat’ın “Dünya Öykü Günü” olması önerisi reddedilmiş.\n",
            " Öykü ülkemizde okunan, sevilen bir tür olmasına karşın dünyada bizdeki kadar yaygın değil. Öykü edebiyat dergilerinde yayımlanan bir tür olarak kalıyor, öykü kitaplarının sayısı az. 14 Şubat “Dünya Öykü Günü” olarak UNESCO tarafından benimsenip dünyaya duyurulsaydı sanırım günün öyküye ilginin artmasında önemli bir katkısı olacaktı. \n",
            " Bu yıl Özcan Karabulut ve öykücü arkadaşları kurumsallaşmada önemli bir adım atarak Ankara Öykü Günleri Derneği’ni kurdu. “14 Şubat Dünyanın Öyküsü” dergisi yayımlanmaya başlandı. Dünya Öykü Günü kutlamalarında da dernek önemli rol yüklenmiş.\n",
            "“Yaşadığınız öyküler dilerim güzel bitsin!” diye noktalanan 2014 Dünya Öykü Günü Bildirgesi’ni usta öykücü Necati Tosuner yazmış. Başta Ankara olmak üzere Bursa, Erzurum, Kayseri, İzmir, Denizli, Eskişehir ve Konya gibi şehirlerde kutlamalar yapılmış. Önceki yıllarda Türkiye PEN’in organizasyonu ile İstanbul’da da kutlamalar yapılıyordu. Bu yıl ise İstanbul’da bir etkinlik yoktu. Sadece Kadıköy’de öyküseverler bir araya gelip balonların ucuna bağlanmış öyküleri sokaktan geçenlere dağıtmış. Bence Ankara Öykü Günleri Derneği’nin çabasına Türkiye PEN ve diğer yazar örgütleri de katkıda bulunmalı. Ancak her yerde birbirinden bağımsız kutlamalar yapıldığında “Dünya Öykü Günü” kalıcılaşacaktır.\n",
            "\n",
            "\n",
            "İstanbul Kağıthane’de gece yarısı sokakta oyun oynayan çocuklar, ölümden döndü. Kontrolden çıkan bir kamyonet, kaldırımı aşıp binanın duvarındaki doğalgaz kutusuna çarptı. 2 kişinin yaralandığı kazada şoför kaçarken arkadaşına tekme atarak kaçan çocuğun saniyelerle ölümden kurtulduğu o an güvenlik kameralarına yansıdı.\n",
            "\n",
            "\n",
            "Ziraat Türkiye Kupası maçında deplasmanda Amedspor'un Bursaspor'u 2-1 yenerek kupa dışına itmesi, Diyarbakır'da sevinçle gösterileriyle karşılandı. Tezehürat ve yeşil kırmızı flamalarla Ofis'te toplanan ve Gevran Caddesi'ne yürümek isteyen taraftarlara polis, tazyikli su ve gaz bombalarıyla müdahale etti. Ofis semtinde güvenlik güçleri ile Amedspor taraftarları arasında çıkan olaylar ara sokaklarda kovalamaca şeklinde devam etti.\n",
            "\n",
            "\n",
            "Eski Brezilyalı yıldız oyuncu Ronaldo, Brezilya'nın evsahipliğinde düzenlenecek 2014 FIFA Dünya Kupası'nı \"Sambacı\"ların kazanması halinde Neymar'ın turnuvanın yıldızı olabileceğini iddia etti.\n",
            "İspanyol basınına konuşan Ronaldo, Neymar'ın Barcelona'ya transferinin ardından futbolunu geliştirdiğini belirterek, \"Geçen sezon Konfederasyonlar Kupası'nda izlediğim Brezilya'nın ardından iyimserim. Genç bir takımları var ve Neymar kalitesiyle takımın en iyi oyuncusu\" dedi.\n",
            "Neymar'ın Barcelona'da Lionel Messi'nin ardında kaldığını belirten Ronaldo, \"Barcelona'da şimdilik Messi'nin yardımcılığını yapıyor. Ama o çok daha fazlası ve ülkemizin heyecan verici umudu\" şeklinde konuştu.\n",
            "\"Brezilya turnuvayı kazanırsa Neymar da turnuvanın yıldızı seçilebilir\" diyen Ronaldo, 22 yaşındaki oyuncuya duyduğu güvenin önümüzdeki turnuvada boşa çıkmayacağından emin olduğunu vurguladı.\n",
            "Turnuva öncesinde statların yetişememesi, güvenlik gibi konular için boşuna endişe duyulduğunu savunan Ronaldo, \"Gelmiş geçmiş en iyi Dünya Kupası bu olacak. Önümüzde birkaç ay var ve bazı şüpheler olması normal. Aynı şey kış olimpiyatları öncesi Soçi'de yaşanmıştı\" değerlendirmesinde bulundu.\n",
            "Neymar'ın Brezilya formasıyla 46 maçta 27 golü bulunuyor.\n",
            "\n",
            "\n"
          ],
          "name": "stdout"
        }
      ]
    },
    {
      "cell_type": "markdown",
      "metadata": {
        "id": "dy7nAtTv-uk3"
      },
      "source": [
        "### Punctuation removal"
      ]
    },
    {
      "cell_type": "markdown",
      "metadata": {
        "id": "GRYzfL97okYt"
      },
      "source": [
        "<img class=\"img-responsive\" src=\"https://www.thelearninglab.com.sg//content/dam/tll/blog-content/2019/aug/why-proper-punctuation-matters/Why-Proper-Punctuation-Matters_Blog-Header-1_2.gif\">"
      ]
    },
    {
      "cell_type": "code",
      "metadata": {
        "colab": {
          "base_uri": "https://localhost:8080/",
          "height": 407
        },
        "id": "i1S9Pf-HAsIn",
        "outputId": "a275aeea-8a9d-4f77-e63b-a9495a9c688e"
      },
      "source": [
        "train_df.head(-1)"
      ],
      "execution_count": 14,
      "outputs": [
        {
          "output_type": "execute_result",
          "data": {
            "text/html": [
              "<div>\n",
              "<style scoped>\n",
              "    .dataframe tbody tr th:only-of-type {\n",
              "        vertical-align: middle;\n",
              "    }\n",
              "\n",
              "    .dataframe tbody tr th {\n",
              "        vertical-align: top;\n",
              "    }\n",
              "\n",
              "    .dataframe thead th {\n",
              "        text-align: right;\n",
              "    }\n",
              "</style>\n",
              "<table border=\"1\" class=\"dataframe\">\n",
              "  <thead>\n",
              "    <tr style=\"text-align: right;\">\n",
              "      <th></th>\n",
              "      <th>id</th>\n",
              "      <th>text</th>\n",
              "      <th>label</th>\n",
              "    </tr>\n",
              "  </thead>\n",
              "  <tbody>\n",
              "    <tr>\n",
              "      <th>0</th>\n",
              "      <td>547530</td>\n",
              "      <td>Beşiktaş'ın eski teknik direktörü Slaven Bilic...</td>\n",
              "      <td>spor</td>\n",
              "    </tr>\n",
              "    <tr>\n",
              "      <th>1</th>\n",
              "      <td>42683</td>\n",
              "      <td>14 Şubat, Katolik Kilisesi’nin azizlerinden St...</td>\n",
              "      <td>yazarlar</td>\n",
              "    </tr>\n",
              "    <tr>\n",
              "      <th>2</th>\n",
              "      <td>770925</td>\n",
              "      <td>İstanbul Kağıthane’de gece yarısı sokakta oyun...</td>\n",
              "      <td>video</td>\n",
              "    </tr>\n",
              "    <tr>\n",
              "      <th>3</th>\n",
              "      <td>473224</td>\n",
              "      <td>Ziraat Türkiye Kupası maçında deplasmanda Amed...</td>\n",
              "      <td>video</td>\n",
              "    </tr>\n",
              "    <tr>\n",
              "      <th>4</th>\n",
              "      <td>44833</td>\n",
              "      <td>Eski Brezilyalı yıldız oyuncu Ronaldo, Brezily...</td>\n",
              "      <td>spor</td>\n",
              "    </tr>\n",
              "    <tr>\n",
              "      <th>...</th>\n",
              "      <td>...</td>\n",
              "      <td>...</td>\n",
              "      <td>...</td>\n",
              "    </tr>\n",
              "    <tr>\n",
              "      <th>7994</th>\n",
              "      <td>812733</td>\n",
              "      <td>Çanakkale’den “Herkes İçin Adalet” diye seslen...</td>\n",
              "      <td>yazarlar</td>\n",
              "    </tr>\n",
              "    <tr>\n",
              "      <th>7995</th>\n",
              "      <td>786591</td>\n",
              "      <td>Eskişehirspor Yönetimi, teknik direktörlük gör...</td>\n",
              "      <td>spor</td>\n",
              "    </tr>\n",
              "    <tr>\n",
              "      <th>7996</th>\n",
              "      <td>144257</td>\n",
              "      <td>UEFA Disiplin Kurulu, Borussia Dortmund-Galata...</td>\n",
              "      <td>spor</td>\n",
              "    </tr>\n",
              "    <tr>\n",
              "      <th>7997</th>\n",
              "      <td>675701</td>\n",
              "      <td>Rusya Federasyon Konseyi Uluslararası İlişkile...</td>\n",
              "      <td>dunya</td>\n",
              "    </tr>\n",
              "    <tr>\n",
              "      <th>7998</th>\n",
              "      <td>680725</td>\n",
              "      <td>Rusya’nın BM Büyükelçisi Vitaly Çurkin New Yor...</td>\n",
              "      <td>dunya</td>\n",
              "    </tr>\n",
              "  </tbody>\n",
              "</table>\n",
              "<p>7999 rows × 3 columns</p>\n",
              "</div>"
            ],
            "text/plain": [
              "          id                                               text     label\n",
              "0     547530  Beşiktaş'ın eski teknik direktörü Slaven Bilic...      spor\n",
              "1      42683  14 Şubat, Katolik Kilisesi’nin azizlerinden St...  yazarlar\n",
              "2     770925  İstanbul Kağıthane’de gece yarısı sokakta oyun...     video\n",
              "3     473224  Ziraat Türkiye Kupası maçında deplasmanda Amed...     video\n",
              "4      44833  Eski Brezilyalı yıldız oyuncu Ronaldo, Brezily...      spor\n",
              "...      ...                                                ...       ...\n",
              "7994  812733  Çanakkale’den “Herkes İçin Adalet” diye seslen...  yazarlar\n",
              "7995  786591  Eskişehirspor Yönetimi, teknik direktörlük gör...      spor\n",
              "7996  144257  UEFA Disiplin Kurulu, Borussia Dortmund-Galata...      spor\n",
              "7997  675701  Rusya Federasyon Konseyi Uluslararası İlişkile...     dunya\n",
              "7998  680725  Rusya’nın BM Büyükelçisi Vitaly Çurkin New Yor...     dunya\n",
              "\n",
              "[7999 rows x 3 columns]"
            ]
          },
          "metadata": {
            "tags": []
          },
          "execution_count": 14
        }
      ]
    },
    {
      "cell_type": "code",
      "metadata": {
        "colab": {
          "base_uri": "https://localhost:8080/",
          "height": 407
        },
        "id": "c0aUulJp-uAd",
        "outputId": "0d462b13-df4e-4d3a-dd59-b75790528657"
      },
      "source": [
        "train_df[\"text\"]=train_df[\"text\"].str.replace('[{}]'.format(string.punctuation), '')\n",
        "train_df.head(-1)"
      ],
      "execution_count": 15,
      "outputs": [
        {
          "output_type": "execute_result",
          "data": {
            "text/html": [
              "<div>\n",
              "<style scoped>\n",
              "    .dataframe tbody tr th:only-of-type {\n",
              "        vertical-align: middle;\n",
              "    }\n",
              "\n",
              "    .dataframe tbody tr th {\n",
              "        vertical-align: top;\n",
              "    }\n",
              "\n",
              "    .dataframe thead th {\n",
              "        text-align: right;\n",
              "    }\n",
              "</style>\n",
              "<table border=\"1\" class=\"dataframe\">\n",
              "  <thead>\n",
              "    <tr style=\"text-align: right;\">\n",
              "      <th></th>\n",
              "      <th>id</th>\n",
              "      <th>text</th>\n",
              "      <th>label</th>\n",
              "    </tr>\n",
              "  </thead>\n",
              "  <tbody>\n",
              "    <tr>\n",
              "      <th>0</th>\n",
              "      <td>547530</td>\n",
              "      <td>Beşiktaşın eski teknik direktörü Slaven Bilic ...</td>\n",
              "      <td>spor</td>\n",
              "    </tr>\n",
              "    <tr>\n",
              "      <th>1</th>\n",
              "      <td>42683</td>\n",
              "      <td>14 Şubat Katolik Kilisesi’nin azizlerinden St ...</td>\n",
              "      <td>yazarlar</td>\n",
              "    </tr>\n",
              "    <tr>\n",
              "      <th>2</th>\n",
              "      <td>770925</td>\n",
              "      <td>İstanbul Kağıthane’de gece yarısı sokakta oyun...</td>\n",
              "      <td>video</td>\n",
              "    </tr>\n",
              "    <tr>\n",
              "      <th>3</th>\n",
              "      <td>473224</td>\n",
              "      <td>Ziraat Türkiye Kupası maçında deplasmanda Amed...</td>\n",
              "      <td>video</td>\n",
              "    </tr>\n",
              "    <tr>\n",
              "      <th>4</th>\n",
              "      <td>44833</td>\n",
              "      <td>Eski Brezilyalı yıldız oyuncu Ronaldo Brezilya...</td>\n",
              "      <td>spor</td>\n",
              "    </tr>\n",
              "    <tr>\n",
              "      <th>...</th>\n",
              "      <td>...</td>\n",
              "      <td>...</td>\n",
              "      <td>...</td>\n",
              "    </tr>\n",
              "    <tr>\n",
              "      <th>7994</th>\n",
              "      <td>812733</td>\n",
              "      <td>Çanakkale’den “Herkes İçin Adalet” diye seslen...</td>\n",
              "      <td>yazarlar</td>\n",
              "    </tr>\n",
              "    <tr>\n",
              "      <th>7995</th>\n",
              "      <td>786591</td>\n",
              "      <td>Eskişehirspor Yönetimi teknik direktörlük göre...</td>\n",
              "      <td>spor</td>\n",
              "    </tr>\n",
              "    <tr>\n",
              "      <th>7996</th>\n",
              "      <td>144257</td>\n",
              "      <td>UEFA Disiplin Kurulu Borussia DortmundGalatasa...</td>\n",
              "      <td>spor</td>\n",
              "    </tr>\n",
              "    <tr>\n",
              "      <th>7997</th>\n",
              "      <td>675701</td>\n",
              "      <td>Rusya Federasyon Konseyi Uluslararası İlişkile...</td>\n",
              "      <td>dunya</td>\n",
              "    </tr>\n",
              "    <tr>\n",
              "      <th>7998</th>\n",
              "      <td>680725</td>\n",
              "      <td>Rusya’nın BM Büyükelçisi Vitaly Çurkin New Yor...</td>\n",
              "      <td>dunya</td>\n",
              "    </tr>\n",
              "  </tbody>\n",
              "</table>\n",
              "<p>7999 rows × 3 columns</p>\n",
              "</div>"
            ],
            "text/plain": [
              "          id                                               text     label\n",
              "0     547530  Beşiktaşın eski teknik direktörü Slaven Bilic ...      spor\n",
              "1      42683  14 Şubat Katolik Kilisesi’nin azizlerinden St ...  yazarlar\n",
              "2     770925  İstanbul Kağıthane’de gece yarısı sokakta oyun...     video\n",
              "3     473224  Ziraat Türkiye Kupası maçında deplasmanda Amed...     video\n",
              "4      44833  Eski Brezilyalı yıldız oyuncu Ronaldo Brezilya...      spor\n",
              "...      ...                                                ...       ...\n",
              "7994  812733  Çanakkale’den “Herkes İçin Adalet” diye seslen...  yazarlar\n",
              "7995  786591  Eskişehirspor Yönetimi teknik direktörlük göre...      spor\n",
              "7996  144257  UEFA Disiplin Kurulu Borussia DortmundGalatasa...      spor\n",
              "7997  675701  Rusya Federasyon Konseyi Uluslararası İlişkile...     dunya\n",
              "7998  680725  Rusya’nın BM Büyükelçisi Vitaly Çurkin New Yor...     dunya\n",
              "\n",
              "[7999 rows x 3 columns]"
            ]
          },
          "metadata": {
            "tags": []
          },
          "execution_count": 15
        }
      ]
    },
    {
      "cell_type": "code",
      "metadata": {
        "colab": {
          "base_uri": "https://localhost:8080/",
          "height": 407
        },
        "id": "f7a9UsGazqy6",
        "outputId": "f54895df-8d5e-4ead-c4fb-1b5c5e3dd675"
      },
      "source": [
        "test_df[\"text\"]=test_df[\"text\"].str.replace('[{}]'.format(string.punctuation), '')\n",
        "test_df.head(-1)"
      ],
      "execution_count": 16,
      "outputs": [
        {
          "output_type": "execute_result",
          "data": {
            "text/html": [
              "<div>\n",
              "<style scoped>\n",
              "    .dataframe tbody tr th:only-of-type {\n",
              "        vertical-align: middle;\n",
              "    }\n",
              "\n",
              "    .dataframe tbody tr th {\n",
              "        vertical-align: top;\n",
              "    }\n",
              "\n",
              "    .dataframe thead th {\n",
              "        text-align: right;\n",
              "    }\n",
              "</style>\n",
              "<table border=\"1\" class=\"dataframe\">\n",
              "  <thead>\n",
              "    <tr style=\"text-align: right;\">\n",
              "      <th></th>\n",
              "      <th>id</th>\n",
              "      <th>text</th>\n",
              "      <th>label</th>\n",
              "    </tr>\n",
              "  </thead>\n",
              "  <tbody>\n",
              "    <tr>\n",
              "      <th>0</th>\n",
              "      <td>416549</td>\n",
              "      <td>Filmimde oynadı ama 32 yıldır görmüyordum abim...</td>\n",
              "      <td>video</td>\n",
              "    </tr>\n",
              "    <tr>\n",
              "      <th>1</th>\n",
              "      <td>462801</td>\n",
              "      <td>Katalonyanın yeni Başkanı Carles Puigdemont re...</td>\n",
              "      <td>dunya</td>\n",
              "    </tr>\n",
              "    <tr>\n",
              "      <th>2</th>\n",
              "      <td>114173</td>\n",
              "      <td>İstanbul Avcılarda E5 üzerinde bir yakıt tanke...</td>\n",
              "      <td>video</td>\n",
              "    </tr>\n",
              "    <tr>\n",
              "      <th>3</th>\n",
              "      <td>458380</td>\n",
              "      <td>CNN Türk muhabiri emniyet kemeri haberi yapmak...</td>\n",
              "      <td>video</td>\n",
              "    </tr>\n",
              "    <tr>\n",
              "      <th>4</th>\n",
              "      <td>287566</td>\n",
              "      <td>\\n\\n\\n \\nCumhurbaşkanı Gül yasama yılını açark...</td>\n",
              "      <td>yazarlar</td>\n",
              "    </tr>\n",
              "    <tr>\n",
              "      <th>...</th>\n",
              "      <td>...</td>\n",
              "      <td>...</td>\n",
              "      <td>...</td>\n",
              "    </tr>\n",
              "    <tr>\n",
              "      <th>1994</th>\n",
              "      <td>51087</td>\n",
              "      <td>Almanyanın Köln kentinde Köln Türkiye Gençlik ...</td>\n",
              "      <td>video</td>\n",
              "    </tr>\n",
              "    <tr>\n",
              "      <th>1995</th>\n",
              "      <td>318095</td>\n",
              "      <td>Turkish Airlines Euroleaguedeki temsilcilerimi...</td>\n",
              "      <td>spor</td>\n",
              "    </tr>\n",
              "    <tr>\n",
              "      <th>1996</th>\n",
              "      <td>283607</td>\n",
              "      <td>Akıl Oyunları filmine ilham veren ünlü matemat...</td>\n",
              "      <td>dunya</td>\n",
              "    </tr>\n",
              "    <tr>\n",
              "      <th>1997</th>\n",
              "      <td>244760</td>\n",
              "      <td>Eski ÖSYM Başkanı Ali Demir KPSS soruşturması ...</td>\n",
              "      <td>turkiye</td>\n",
              "    </tr>\n",
              "    <tr>\n",
              "      <th>1998</th>\n",
              "      <td>561235</td>\n",
              "      <td>Atatürk Havalimanı katliamından sonra bir gün ...</td>\n",
              "      <td>yazarlar</td>\n",
              "    </tr>\n",
              "  </tbody>\n",
              "</table>\n",
              "<p>1999 rows × 3 columns</p>\n",
              "</div>"
            ],
            "text/plain": [
              "          id                                               text     label\n",
              "0     416549  Filmimde oynadı ama 32 yıldır görmüyordum abim...     video\n",
              "1     462801  Katalonyanın yeni Başkanı Carles Puigdemont re...     dunya\n",
              "2     114173  İstanbul Avcılarda E5 üzerinde bir yakıt tanke...     video\n",
              "3     458380  CNN Türk muhabiri emniyet kemeri haberi yapmak...     video\n",
              "4     287566  \\n\\n\\n \\nCumhurbaşkanı Gül yasama yılını açark...  yazarlar\n",
              "...      ...                                                ...       ...\n",
              "1994   51087  Almanyanın Köln kentinde Köln Türkiye Gençlik ...     video\n",
              "1995  318095  Turkish Airlines Euroleaguedeki temsilcilerimi...      spor\n",
              "1996  283607  Akıl Oyunları filmine ilham veren ünlü matemat...     dunya\n",
              "1997  244760  Eski ÖSYM Başkanı Ali Demir KPSS soruşturması ...   turkiye\n",
              "1998  561235  Atatürk Havalimanı katliamından sonra bir gün ...  yazarlar\n",
              "\n",
              "[1999 rows x 3 columns]"
            ]
          },
          "metadata": {
            "tags": []
          },
          "execution_count": 16
        }
      ]
    },
    {
      "cell_type": "markdown",
      "metadata": {
        "id": "QsY-zEd4CVmT"
      },
      "source": [
        "###Lower casing"
      ]
    },
    {
      "cell_type": "markdown",
      "metadata": {
        "id": "ar1KuwOOnsN6"
      },
      "source": [
        "<img class=\" lazyloaded\" data-src=\"https://bloopglobal.com/wp-content/uploads/2020/11/interactive-presentation-header-1.gif\" alt=\"\" title=\"interactive-presentation-header\" src=\"https://i.gifer.com/3VXm.gif\">\n"
      ]
    },
    {
      "cell_type": "code",
      "metadata": {
        "colab": {
          "base_uri": "https://localhost:8080/",
          "height": 407
        },
        "id": "GqlHg31UCYf7",
        "outputId": "dbd95f25-6dd6-4ffb-e7ed-4b7d4c22c7c1"
      },
      "source": [
        "train_df[\"text\"]=train_df[\"text\"].str.lower()\n",
        "train_df.head(-1)"
      ],
      "execution_count": 17,
      "outputs": [
        {
          "output_type": "execute_result",
          "data": {
            "text/html": [
              "<div>\n",
              "<style scoped>\n",
              "    .dataframe tbody tr th:only-of-type {\n",
              "        vertical-align: middle;\n",
              "    }\n",
              "\n",
              "    .dataframe tbody tr th {\n",
              "        vertical-align: top;\n",
              "    }\n",
              "\n",
              "    .dataframe thead th {\n",
              "        text-align: right;\n",
              "    }\n",
              "</style>\n",
              "<table border=\"1\" class=\"dataframe\">\n",
              "  <thead>\n",
              "    <tr style=\"text-align: right;\">\n",
              "      <th></th>\n",
              "      <th>id</th>\n",
              "      <th>text</th>\n",
              "      <th>label</th>\n",
              "    </tr>\n",
              "  </thead>\n",
              "  <tbody>\n",
              "    <tr>\n",
              "      <th>0</th>\n",
              "      <td>547530</td>\n",
              "      <td>beşiktaşın eski teknik direktörü slaven bilic ...</td>\n",
              "      <td>spor</td>\n",
              "    </tr>\n",
              "    <tr>\n",
              "      <th>1</th>\n",
              "      <td>42683</td>\n",
              "      <td>14 şubat katolik kilisesi’nin azizlerinden st ...</td>\n",
              "      <td>yazarlar</td>\n",
              "    </tr>\n",
              "    <tr>\n",
              "      <th>2</th>\n",
              "      <td>770925</td>\n",
              "      <td>i̇stanbul kağıthane’de gece yarısı sokakta oyu...</td>\n",
              "      <td>video</td>\n",
              "    </tr>\n",
              "    <tr>\n",
              "      <th>3</th>\n",
              "      <td>473224</td>\n",
              "      <td>ziraat türkiye kupası maçında deplasmanda amed...</td>\n",
              "      <td>video</td>\n",
              "    </tr>\n",
              "    <tr>\n",
              "      <th>4</th>\n",
              "      <td>44833</td>\n",
              "      <td>eski brezilyalı yıldız oyuncu ronaldo brezilya...</td>\n",
              "      <td>spor</td>\n",
              "    </tr>\n",
              "    <tr>\n",
              "      <th>...</th>\n",
              "      <td>...</td>\n",
              "      <td>...</td>\n",
              "      <td>...</td>\n",
              "    </tr>\n",
              "    <tr>\n",
              "      <th>7994</th>\n",
              "      <td>812733</td>\n",
              "      <td>çanakkale’den “herkes i̇çin adalet” diye sesle...</td>\n",
              "      <td>yazarlar</td>\n",
              "    </tr>\n",
              "    <tr>\n",
              "      <th>7995</th>\n",
              "      <td>786591</td>\n",
              "      <td>eskişehirspor yönetimi teknik direktörlük göre...</td>\n",
              "      <td>spor</td>\n",
              "    </tr>\n",
              "    <tr>\n",
              "      <th>7996</th>\n",
              "      <td>144257</td>\n",
              "      <td>uefa disiplin kurulu borussia dortmundgalatasa...</td>\n",
              "      <td>spor</td>\n",
              "    </tr>\n",
              "    <tr>\n",
              "      <th>7997</th>\n",
              "      <td>675701</td>\n",
              "      <td>rusya federasyon konseyi uluslararası i̇lişkil...</td>\n",
              "      <td>dunya</td>\n",
              "    </tr>\n",
              "    <tr>\n",
              "      <th>7998</th>\n",
              "      <td>680725</td>\n",
              "      <td>rusya’nın bm büyükelçisi vitaly çurkin new yor...</td>\n",
              "      <td>dunya</td>\n",
              "    </tr>\n",
              "  </tbody>\n",
              "</table>\n",
              "<p>7999 rows × 3 columns</p>\n",
              "</div>"
            ],
            "text/plain": [
              "          id                                               text     label\n",
              "0     547530  beşiktaşın eski teknik direktörü slaven bilic ...      spor\n",
              "1      42683  14 şubat katolik kilisesi’nin azizlerinden st ...  yazarlar\n",
              "2     770925  i̇stanbul kağıthane’de gece yarısı sokakta oyu...     video\n",
              "3     473224  ziraat türkiye kupası maçında deplasmanda amed...     video\n",
              "4      44833  eski brezilyalı yıldız oyuncu ronaldo brezilya...      spor\n",
              "...      ...                                                ...       ...\n",
              "7994  812733  çanakkale’den “herkes i̇çin adalet” diye sesle...  yazarlar\n",
              "7995  786591  eskişehirspor yönetimi teknik direktörlük göre...      spor\n",
              "7996  144257  uefa disiplin kurulu borussia dortmundgalatasa...      spor\n",
              "7997  675701  rusya federasyon konseyi uluslararası i̇lişkil...     dunya\n",
              "7998  680725  rusya’nın bm büyükelçisi vitaly çurkin new yor...     dunya\n",
              "\n",
              "[7999 rows x 3 columns]"
            ]
          },
          "metadata": {
            "tags": []
          },
          "execution_count": 17
        }
      ]
    },
    {
      "cell_type": "code",
      "metadata": {
        "colab": {
          "base_uri": "https://localhost:8080/",
          "height": 407
        },
        "id": "fS1DKNKPzxSs",
        "outputId": "7beb2cda-a54a-4240-e216-0bb0f7e205cc"
      },
      "source": [
        "test_df[\"text\"]=test_df[\"text\"].str.lower()\n",
        "test_df.head(-1)"
      ],
      "execution_count": 18,
      "outputs": [
        {
          "output_type": "execute_result",
          "data": {
            "text/html": [
              "<div>\n",
              "<style scoped>\n",
              "    .dataframe tbody tr th:only-of-type {\n",
              "        vertical-align: middle;\n",
              "    }\n",
              "\n",
              "    .dataframe tbody tr th {\n",
              "        vertical-align: top;\n",
              "    }\n",
              "\n",
              "    .dataframe thead th {\n",
              "        text-align: right;\n",
              "    }\n",
              "</style>\n",
              "<table border=\"1\" class=\"dataframe\">\n",
              "  <thead>\n",
              "    <tr style=\"text-align: right;\">\n",
              "      <th></th>\n",
              "      <th>id</th>\n",
              "      <th>text</th>\n",
              "      <th>label</th>\n",
              "    </tr>\n",
              "  </thead>\n",
              "  <tbody>\n",
              "    <tr>\n",
              "      <th>0</th>\n",
              "      <td>416549</td>\n",
              "      <td>filmimde oynadı ama 32 yıldır görmüyordum abim...</td>\n",
              "      <td>video</td>\n",
              "    </tr>\n",
              "    <tr>\n",
              "      <th>1</th>\n",
              "      <td>462801</td>\n",
              "      <td>katalonyanın yeni başkanı carles puigdemont re...</td>\n",
              "      <td>dunya</td>\n",
              "    </tr>\n",
              "    <tr>\n",
              "      <th>2</th>\n",
              "      <td>114173</td>\n",
              "      <td>i̇stanbul avcılarda e5 üzerinde bir yakıt tank...</td>\n",
              "      <td>video</td>\n",
              "    </tr>\n",
              "    <tr>\n",
              "      <th>3</th>\n",
              "      <td>458380</td>\n",
              "      <td>cnn türk muhabiri emniyet kemeri haberi yapmak...</td>\n",
              "      <td>video</td>\n",
              "    </tr>\n",
              "    <tr>\n",
              "      <th>4</th>\n",
              "      <td>287566</td>\n",
              "      <td>\\n\\n\\n \\ncumhurbaşkanı gül yasama yılını açark...</td>\n",
              "      <td>yazarlar</td>\n",
              "    </tr>\n",
              "    <tr>\n",
              "      <th>...</th>\n",
              "      <td>...</td>\n",
              "      <td>...</td>\n",
              "      <td>...</td>\n",
              "    </tr>\n",
              "    <tr>\n",
              "      <th>1994</th>\n",
              "      <td>51087</td>\n",
              "      <td>almanyanın köln kentinde köln türkiye gençlik ...</td>\n",
              "      <td>video</td>\n",
              "    </tr>\n",
              "    <tr>\n",
              "      <th>1995</th>\n",
              "      <td>318095</td>\n",
              "      <td>turkish airlines euroleaguedeki temsilcilerimi...</td>\n",
              "      <td>spor</td>\n",
              "    </tr>\n",
              "    <tr>\n",
              "      <th>1996</th>\n",
              "      <td>283607</td>\n",
              "      <td>akıl oyunları filmine ilham veren ünlü matemat...</td>\n",
              "      <td>dunya</td>\n",
              "    </tr>\n",
              "    <tr>\n",
              "      <th>1997</th>\n",
              "      <td>244760</td>\n",
              "      <td>eski ösym başkanı ali demir kpss soruşturması ...</td>\n",
              "      <td>turkiye</td>\n",
              "    </tr>\n",
              "    <tr>\n",
              "      <th>1998</th>\n",
              "      <td>561235</td>\n",
              "      <td>atatürk havalimanı katliamından sonra bir gün ...</td>\n",
              "      <td>yazarlar</td>\n",
              "    </tr>\n",
              "  </tbody>\n",
              "</table>\n",
              "<p>1999 rows × 3 columns</p>\n",
              "</div>"
            ],
            "text/plain": [
              "          id                                               text     label\n",
              "0     416549  filmimde oynadı ama 32 yıldır görmüyordum abim...     video\n",
              "1     462801  katalonyanın yeni başkanı carles puigdemont re...     dunya\n",
              "2     114173  i̇stanbul avcılarda e5 üzerinde bir yakıt tank...     video\n",
              "3     458380  cnn türk muhabiri emniyet kemeri haberi yapmak...     video\n",
              "4     287566  \\n\\n\\n \\ncumhurbaşkanı gül yasama yılını açark...  yazarlar\n",
              "...      ...                                                ...       ...\n",
              "1994   51087  almanyanın köln kentinde köln türkiye gençlik ...     video\n",
              "1995  318095  turkish airlines euroleaguedeki temsilcilerimi...      spor\n",
              "1996  283607  akıl oyunları filmine ilham veren ünlü matemat...     dunya\n",
              "1997  244760  eski ösym başkanı ali demir kpss soruşturması ...   turkiye\n",
              "1998  561235  atatürk havalimanı katliamından sonra bir gün ...  yazarlar\n",
              "\n",
              "[1999 rows x 3 columns]"
            ]
          },
          "metadata": {
            "tags": []
          },
          "execution_count": 18
        }
      ]
    },
    {
      "cell_type": "markdown",
      "metadata": {
        "id": "vjdTx98cPFkC"
      },
      "source": [
        "###Stopwords removal"
      ]
    },
    {
      "cell_type": "markdown",
      "metadata": {
        "id": "NK4QiqvPpqPx"
      },
      "source": [
        "<img class=\" lazyloaded\" data-src=\"https://bloopglobal.com/wp-content/uploads/2020/11/interactive-presentation-header-1.gif\" alt=\"\" title=\"interactive-presentation-header\" src=https://i.gifer.com/UE0b.gif>"
      ]
    },
    {
      "cell_type": "code",
      "metadata": {
        "id": "xUnVybUvPKVi"
      },
      "source": [
        "stopwords = []\n",
        "with open(\"/content/gdrive/MyDrive/CS-445/stopwords-extended\") as s_file:\n",
        "  stopwords = s_file.readlines()"
      ],
      "execution_count": 19,
      "outputs": []
    },
    {
      "cell_type": "code",
      "metadata": {
        "id": "wv6OBoc9QE3b"
      },
      "source": [
        "stopwords = [stopword[:-1] for stopword in stopwords]"
      ],
      "execution_count": 20,
      "outputs": []
    },
    {
      "cell_type": "code",
      "metadata": {
        "id": "aFb8L9ZzQvSy"
      },
      "source": [
        "train_df[\"text\"]= train_df[\"text\"].apply(lambda x: ' '.join([word for word in x.split() if word not in (stopwords)]))"
      ],
      "execution_count": 21,
      "outputs": []
    },
    {
      "cell_type": "code",
      "metadata": {
        "colab": {
          "base_uri": "https://localhost:8080/"
        },
        "id": "cbqe33IPSOum",
        "outputId": "e544d2f8-df98-40eb-e747-d85a7558009e"
      },
      "source": [
        "for index, row in train_df.iterrows():\n",
        "    if(index==5):\n",
        "      break\n",
        "    print(row[1])\n",
        "    print(\"\\n\")"
      ],
      "execution_count": 22,
      "outputs": [
        {
          "output_type": "stream",
          "text": [
            "beşiktaşın eski teknik direktörü slaven bilic türkiyehırvatistan maçında yorumculuk lig tv anlaştı euro 2016nın yayıncı kuruluşlarından lig tv türkiyenin d grubunda hırvatistan oynayacağı maç slaven bilic anlaşıldığını duyurdu beşiktaşın eski teknik direktörü slaven bilic 12 haziran pazar günü tsi̇ 1600da başlayacak mücadelede yorumcu olacak lig tv slaven bilicin yanı sıra a milli takımın efsane kalecilerinden rüştü reçberin karşılaşmanın yorumcularından olacağını açıkladı euro 2008de hırvatistanın teknik direktörü slaven bilic çeyrek finalde türkiyeye rakip olmuş 120 dakikası 11 biten maçta a milli takımımıza penaltılarda elenmişti\n",
            "\n",
            "\n",
            "14 şubat katolik kilisesi’nin azizlerinden st valentine’e adanmış gün “valentine”in sevgili anlamına gelmesinden “sevgililer günü”ne dönüşmüş 1800’lü yıllarda amerikalı esther howland’ın sevgililer günü kartını yollamasıyla yeni biçim almış i̇lk zamanlar sevgililerin birbirlerine kartlarla mesajlar yollamasını özendiren günü sevgililerin geçirmesini sağlayan etkinlikler yapılmış hediye alıp verilmeye başlanınca tüketim çılgınlığına dönüştürülmüş türkiye’de sevgililer günü’nün öncüsü hıncal uluç biliniyor uluç sevgililer günü’nden 1977’de zamanki amerikalı eşi vesilesi söz etmiş ülkemizde 90’lı yıllardan yaygın kutlanmaya başlamış anneler babalar günü tüketimi özendirmek amacıyla desteklenen gün sevgililer günü’ne temel eleştiri hıristiyan kökenli müslümanlarca kutlanmasının sevgililer günü denince akla st valentine gelmiyor 469 yılında papa’nın ilan anma 1969’da kilise takviminden çıkarılmış 14 şubat’ın dini niteliği kalmamış i̇kinci eleştiri sevgililer günü’nün amacının tüketimi özendirmek düşüncesi haklı eleştiri bugünün kutlanmasının tüketimi özendirmek artırmaktan başka amacı 14 şubat’ta sevgililer günü kutlanmıyor uluslararası kitap değişimi günü kütüphane severler günü dünya öykü günü 14 şubat’ta kutlanan günlerden dünya öykü günü’nü düşünüp öneren öykücü özcan karabulut’turözcan karabulut öykücü olmasının yanında öykü sevdalısıdır öykünün okunup benimsenmesi elinden gelen yapar öykü dergileri yayıncılığı başlayan çabası ankara öykü günleri gelişti “dünya öykü günü” önerisine özcan karabulut türkiye’de bugünün kutlanmasına önayak olmakla kalmadı dünya çapında kutlanması çalışmalar 2003 yılında türkiye pen’in önerisi uluslararası pen genel kurulu’nda 14 şubat “dünya öykü günü” kabul edildi i̇kinci önemli aşama günün unesco kabul edilmesiydi unesco genel kurulu’nda 14 şubat’ın “dünya öykü günü” önerisi reddedilmiş öykü ülkemizde okunan sevilen tür olmasına dünyada bizdeki yaygın öykü edebiyat dergilerinde yayımlanan tür kalıyor öykü kitaplarının sayısı 14 şubat “dünya öykü günü” unesco benimsenip dünyaya duyurulsaydı sanırım günün öyküye ilginin artmasında önemli katkısı olacaktı yıl özcan karabulut öykücü arkadaşları kurumsallaşmada önemli adım atarak ankara öykü günleri derneği’ni kurdu “14 şubat dünyanın öyküsü” dergisi yayımlanmaya başlandı dünya öykü günü kutlamalarında dernek önemli rol yüklenmiş “yaşadığınız öyküler dilerim güzel bitsin” noktalanan 2014 dünya öykü günü bildirgesi’ni usta öykücü necati tosuner yazmış başta ankara bursa erzurum kayseri i̇zmir denizli eskişehir konya şehirlerde kutlamalar yapılmış önceki yıllarda türkiye pen’in organizasyonu i̇stanbul’da kutlamalar yapılıyordu yıl i̇stanbul’da etkinlik yoktu kadıköy’de öyküseverler araya gelip balonların ucuna bağlanmış öyküleri sokaktan geçenlere dağıtmış bence ankara öykü günleri derneği’nin çabasına türkiye pen yazar örgütleri katkıda bulunmalı yerde birbirinden bağımsız kutlamalar yapıldığında “dünya öykü günü” kalıcılaşacaktır\n",
            "\n",
            "\n",
            "i̇stanbul kağıthane’de gece yarısı sokakta oyun oynayan çocuklar ölümden döndü kontrolden çıkan kamyonet kaldırımı aşıp binanın duvarındaki doğalgaz kutusuna çarptı 2 kişinin yaralandığı kazada şoför kaçarken arkadaşına tekme atarak kaçan çocuğun saniyelerle ölümden kurtulduğu an güvenlik kameralarına yansıdı\n",
            "\n",
            "\n",
            "ziraat türkiye kupası maçında deplasmanda amedsporun bursasporu 21 yenerek kupa dışına itmesi diyarbakırda sevinçle gösterileriyle karşılandı tezehürat yeşil kırmızı flamalarla ofiste toplanan gevran caddesine yürümek isteyen taraftarlara polis tazyikli su gaz bombalarıyla müdahale ofis semtinde güvenlik güçleri amedspor taraftarları arasında çıkan olaylar ara sokaklarda kovalamaca şeklinde devam\n",
            "\n",
            "\n",
            "eski brezilyalı yıldız oyuncu ronaldo brezilyanın evsahipliğinde düzenlenecek 2014 fifa dünya kupasını sambacıların kazanması halinde neymarın turnuvanın yıldızı olabileceğini iddia i̇spanyol basınına konuşan ronaldo neymarın barcelonaya transferinin ardından futbolunu geliştirdiğini belirterek geçen sezon konfederasyonlar kupasında izlediğim brezilyanın ardından iyimserim genç takımları neymar kalitesiyle takımın oyuncusu dedi neymarın barcelonada lionel messinin ardında kaldığını belirten ronaldo barcelonada şimdilik messinin yardımcılığını fazlası ülkemizin heyecan verici umudu şeklinde konuştu brezilya turnuvayı kazanırsa neymar turnuvanın yıldızı seçilebilir diyen ronaldo 22 yaşındaki oyuncuya duyduğu güvenin önümüzdeki turnuvada boşa çıkmayacağından emin vurguladı turnuva öncesinde statların yetişememesi güvenlik konular endişe duyulduğunu savunan ronaldo gelmiş geçmiş dünya kupası olacak önümüzde ay şüpheler normal aynı kış olimpiyatları öncesi soçide yaşanmıştı değerlendirmesinde bulundu neymarın brezilya formasıyla 46 maçta 27 golü bulunuyor\n",
            "\n",
            "\n"
          ],
          "name": "stdout"
        }
      ]
    },
    {
      "cell_type": "code",
      "metadata": {
        "id": "tPg-69rPz6FW"
      },
      "source": [
        "test_df[\"text\"]= test_df[\"text\"].apply(lambda x: ' '.join([word for word in x.split() if word not in (stopwords)]))"
      ],
      "execution_count": 23,
      "outputs": []
    },
    {
      "cell_type": "code",
      "metadata": {
        "colab": {
          "base_uri": "https://localhost:8080/"
        },
        "id": "OdE-zf9gz6Fi",
        "outputId": "984b4baf-1ee3-43a8-99f6-6644ef1393b8"
      },
      "source": [
        "for index, row in test_df.iterrows():\n",
        "    if(index==5):\n",
        "      break\n",
        "    print(row[1])\n",
        "    print(\"\\n\")"
      ],
      "execution_count": 24,
      "outputs": [
        {
          "output_type": "stream",
          "text": [
            "filmimde oynadı 32 yıldır görmüyordum abimi diyen heyecanlanarak gözyaşlarına boğulan cem yılmazı izleyenler kahkahalara boğuldu\n",
            "\n",
            "\n",
            "katalonyanın yeni başkanı carles puigdemont resmen görevi teslim aldığı törende nazım hikmetin güzel şiirini okudu yunan lider çipras başbakanlıktan istifa ederken aynı şiiri okumuştu i̇spanyanın doğusundaki katalonya özerk yönetiminin başkanı seçilen carles puigdemont resmen görevini teslim aldığı törende konuşmada türk şairi nazım hikmetin şiirinden mısrayı okudu katalonyada bağımsızlık yanlısı girişimlerin devam edeceğini vadeden puigdemont bağımsızlık adımlarına atfen fazla şeyleri yaşadığımız uzun seyahatten geliyoruz yorulmadık konuştu puigdemont nazım hikmetin ünlü güzel deniz gidilmemiş olandır mısrasını okudu katalonya özerk yönetiminin 2010 aralık ayından yana başkanı artur masdan başkanlığı devralan puigdemont katalan halkının umudu yaşam koşularının iyileştirilmesi temek haklar kamu hizmeti çevreye duyulan hassasiyetin garanti edilmesidir gerekli araçlara sahip olduğumuzda mümkün olacaktır şeklinde konuştu kraldan söz etmedi̇ konuşması sırasında i̇spanya kralı 6 felipe i̇spanya anayasasına bağlılıktan şekilde söz etmeyen puigdemont katalan halkının arzusuna katalan meclisindeki temsilcilerine sadakat gösterilmesi gerektiğini dile getirdi katalonya haber ajansının eski genel müdürü katalonya başkanı seçilene girona belediye başkanlığı katalonya bağımsızlık yanlısı belediyeler derneği başkanlığı görevlerini yürüten 53 yaşındaki puigdemont katalonyayı i̇spanyadan ayıracak kurumsal yapılanmayı katalonya merkez bankası maliye gerçekleştirip 18 ay referandumla katalonyada bağımsızlık ilan edilmesini vadediyor i̇spanyol hükümeti zamana katalonyada bağımsızlık yanlısı girişimi anayasa mahkemesi aracılığıyla yasal durdurmakta kararlı vurguluyor yunanistan başbakanı syri̇za lideri aleksis çipras geçtiğimiz ağustos ayında erken seçim yolunu açmak istifa etmişti çipras veda konuşmasının nazım hikmetin güzel şiirini seslendirmişti nazım hikmetin piraye i̇çin şiirler başlığıyla yazdığı şiirdeki bölüm güzel deniz gidilmemiş olanıdır güzel çocuk büyümedi güzel günlerimiz yaşamadıklarımız söylemek istediğim güzel söz söylememiş olduğum sözdür\n",
            "\n",
            "\n",
            "i̇stanbul avcılarda e5 üzerinde yakıt tankerinin çarptığı üst geçit çöktü kazada kişi hayatını kaybetti kişi yaralandı kaza sonrasında olay yerinde tankerden sızıntı paniği yaşanıyor tankerde sıvı glikoz öğrenildi\n",
            "\n",
            "\n",
            "cnn türk muhabiri emniyet kemeri haberi şehirler arası otobüste yolcularla röportaj yolcunun verdiği cevap güldürdü konudaki bilinçsizliğimizi gözler önüne serdi\n",
            "\n",
            "\n",
            "\\n\\n\\n cumhurbaşkanı gül yasama yılını açarken yeni anayasaya ağırlık verdi… “değişmez” değiştirilmesi “teklif edilemez” maddelerini gözeten konuşmasına malum tepkiler yükseliverdi kimilerine demokratlığın gereği cumhuriyetimizin laik demokratik sosyal hukuk devleti “olmaması”nı isteyebilmek\\n laiklikle bütünleşen çağdaş demokratik sosyal hakları koruyan hukuku etmek demokrasi sayılıyor\\n böylelerine “allah akıl fikir versin” demekten başka çare kalmıyor\\n faşizmin anayasası\\n 12 eylül anayasası’nı türkiye’ye yakıştırmıyoruz\\n birincisi düzmece gerçek “faşist darbe”nin ürünü arkasında ölümler işkenceler hukuk dışı sorgulama eziyetler topluma zorla oy verdirilen anayasa\\n oktay akbal 1982’deki halkoylamasından “ben hayır diyeceğim” yazdığı ceza yemedi mi yüzde 90 “evet” böylesi ortamda “oy”un “rengi”ni gösteren “şeffaf zarf”larla elde edilmişti\\n i̇kincisi anayasadaki olumlu maddelere “ancak” denilerek “faşist niyet”lerin eklenmesi… sayısız toplumsal dava “ancak”lı ilavelerle yitirildi madde dünyanın hayran kaldığı 61 anayasası’ndaki maddelerin “tersi” eklemelerle düzenlenmişti\\n dokunulmaması\\t gerekenler\\n şimdi denebilir 12 eylül anayasası “ekleme” hükümlerden arındırılsa 61 anayasası’na yakın düzenleme elde edilebilir yorum yanlış sayılmaz “değişmez” “değiştirilmesi önerilemez” maddelerimizin kabulü şartıyla…\\n hükümetlerin “çevre kent toplum yararı”na uygulamalarını önlemek açtığımız davaları anayasanın örneklerini vereceğim maddeleri sayesinde kazanıyoruz\\n örneğin madde 11’deki “kanunlar anayasaya aykırı olamaz” hükmüne sakın dokunulmasın madde sayesinde kıyı yağmasından tarih tahribatına doğa kent düşmanı düzenleme iptal edildi rantçılar kaybetti türkiye kazandı\\n 35’inci maddedeki “mülkiyet hakkı toplum yararına sınırlanabilir” hükmü şehirciliğin güvencesidir aksi halde yapı yoğunlukları arsa sahibi kentin çıkarına belirlenemezdi\\n “kıyılardan yararlanma”ya 43’üncü maddedeki “öncelikle kamu yararı toplum çıkarı gözetilir” koşulu 45’inci maddedeki “devlet tarım arazileri çayır meraların amaç dışı kullanılmasını tahribini önlemekle görevlidir” hükümleri değişmesi teklif edilmeyecek maddeler… aksi halde betonlaşmayan kıyılarımızı hâlâ işgal edilememiş tarım alanlarımızı hemen kaybederiz…\\n “çevreyi geliştirmek çevre sağlığını korumak çevre kirlenmesini önlemek devletin vatandaşların ödevidir” diyen 56’ncı “devlet tarih kültür tabiat varlıklarının korunmasını sağlar” diyen 63’üncü maddeler akımızdır uygulanmasını sağlayacak hükümlerle donatılmalıdır\\n “konut hakkı”yla 57’nci maddedeki “devlet şehirlerin özelliklerini çevre şartlarını gözeten planlama çerçevesinde konut ihtiyacını karşılayacak tedbirleri alır” hükmündeki “şehrin özellikleri”ne dayalı “planlama” koşulu evrensel övgülere olmuştur yaşama geçebilmesi aynı koşulun tersini simgeleyen toki̇ vb uygulamalara engel olabilecek hükümler gerekiyor\\n örnekleri çoğaltmaya yerimiz anayasanın değişmezleri arasına ülkenin yağmalanmasına karşı hükümleri katabilirsek zaman çağdaş kimlikli türkiye’yi yaratabiliriz \\n\\n\n",
            "\n",
            "\n"
          ],
          "name": "stdout"
        }
      ]
    },
    {
      "cell_type": "markdown",
      "metadata": {
        "id": "C9J9Ldkrp5gE"
      },
      "source": [
        "###Number Removal"
      ]
    },
    {
      "cell_type": "markdown",
      "metadata": {
        "id": "Jafzn1mhF8Yp"
      },
      "source": [
        "\n",
        "<img class=\" lazyloaded\" data-src=\"https://media.giphy.com/media/5xaOcLwEvFOizxHVyVy/giphy.gif\" alt=\"\" title=\"interactive-presentation-header\" src=https://media.giphy.com/media/5xaOcLwEvFOizxHVyVy/giphy.gif>"
      ]
    },
    {
      "cell_type": "code",
      "metadata": {
        "id": "tOmhxtb2r9FM"
      },
      "source": [
        "train_df[\"text\"]=train_df[\"text\"].str.replace(r'\\d+', '')"
      ],
      "execution_count": 25,
      "outputs": []
    },
    {
      "cell_type": "code",
      "metadata": {
        "id": "oytY7qqp0l2M"
      },
      "source": [
        "test_df[\"text\"]=test_df[\"text\"].str.replace(r'\\d+', '')"
      ],
      "execution_count": 26,
      "outputs": []
    },
    {
      "cell_type": "markdown",
      "metadata": {
        "id": "yL36U9H0tFjB"
      },
      "source": [
        "## Final modifications before training"
      ]
    },
    {
      "cell_type": "code",
      "metadata": {
        "id": "EV9wkXOamOJy"
      },
      "source": [
        "x_train = train_df[\"text\"]\n",
        "y_train = train_df[\"label\"]"
      ],
      "execution_count": 28,
      "outputs": []
    },
    {
      "cell_type": "code",
      "metadata": {
        "colab": {
          "base_uri": "https://localhost:8080/"
        },
        "id": "2VciWZKOTqN3",
        "outputId": "fdd09693-8387-437b-fddc-13b9c4dc6731"
      },
      "source": [
        "nltk.download(\"stopwords\")\n",
        "stopwords = nltk.corpus.stopwords.words(\"turkish\")"
      ],
      "execution_count": 31,
      "outputs": [
        {
          "output_type": "stream",
          "text": [
            "[nltk_data] Downloading package stopwords to /root/nltk_data...\n",
            "[nltk_data]   Package stopwords is already up-to-date!\n"
          ],
          "name": "stdout"
        }
      ]
    },
    {
      "cell_type": "markdown",
      "metadata": {
        "id": "smRQzf_pUDFX"
      },
      "source": [
        "## Bag-of-words vs Embeddings"
      ]
    },
    {
      "cell_type": "code",
      "metadata": {
        "colab": {
          "base_uri": "https://localhost:8080/"
        },
        "id": "UKr_b9xkH8fd",
        "outputId": "4eec6409-a718-4c90-e205-958fa60fdd5a"
      },
      "source": [
        "import gensim\r\n",
        "from itertools import chain\r\n",
        "\r\n",
        "w2v_1 = gensim.models.Word2Vec.load(\"/content/gdrive/MyDrive/CS-445/project02_word_vec.model\")\r\n",
        "w2v_2 = gensim.models.KeyedVectors.load_word2vec_format(\"/content/gdrive/MyDrive/CS-445/trmodel.model\",binary=True)\r\n",
        "pretrained_weight_1 = w2v_1.wv.vectors\r\n",
        "pretrained_weight_2 = w2v_2.wv.vectors"
      ],
      "execution_count": 211,
      "outputs": [
        {
          "output_type": "stream",
          "text": [
            "/usr/local/lib/python3.6/dist-packages/ipykernel_launcher.py:7: DeprecationWarning: Call to deprecated `wv` (Attribute will be removed in 4.0.0, use self instead).\n",
            "  import sys\n"
          ],
          "name": "stderr"
        }
      ]
    },
    {
      "cell_type": "code",
      "metadata": {
        "id": "TnMtBF5rDge_"
      },
      "source": [
        "x_test = test_df[\"text\"]\n",
        "y_test = test_df[\"label\"]"
      ],
      "execution_count": 32,
      "outputs": []
    },
    {
      "cell_type": "code",
      "metadata": {
        "id": "K-eiM_9S_4Gp"
      },
      "source": [
        "# Importing libraries\r\n",
        "from keras.datasets import imdb\r\n",
        "from keras.models import Sequential,Model\r\n",
        "from keras.layers import Dense,Input,Dropout\r\n",
        "from keras.layers import Flatten,GlobalMaxPooling1D\r\n",
        "from keras.layers.convolutional import Conv1D\r\n",
        "from keras.layers.convolutional import MaxPooling1D\r\n",
        "from keras.layers.embeddings import Embedding\r\n",
        "from keras.preprocessing import sequence\r\n",
        "from sklearn.preprocessing import OneHotEncoder\r\n",
        "from scipy import sparse\r\n",
        "from keras.layers.merge import concatenate\r\n"
      ],
      "execution_count": 217,
      "outputs": []
    },
    {
      "cell_type": "code",
      "metadata": {
        "colab": {
          "base_uri": "https://localhost:8080/"
        },
        "id": "Q4yegkj-LWow",
        "outputId": "32a32661-622f-4f62-c05b-b13b392a1182"
      },
      "source": [
        "x_test"
      ],
      "execution_count": 152,
      "outputs": [
        {
          "output_type": "execute_result",
          "data": {
            "text/plain": [
              "0       filmimde oynadı  yıldır görmüyordum abimi diye...\n",
              "1       katalonyanın yeni başkanı carles puigdemont re...\n",
              "2       i̇stanbul avcılarda e üzerinde yakıt tankerini...\n",
              "3       cnn türk muhabiri emniyet kemeri haberi şehirl...\n",
              "4       \\n\\n\\n cumhurbaşkanı gül yasama yılını açarken...\n",
              "                              ...                        \n",
              "1995    turkish airlines euroleaguedeki temsilcilerimi...\n",
              "1996    akıl oyunları filmine ilham veren ünlü matemat...\n",
              "1997    eski ösym başkanı ali demir kpss soruşturması ...\n",
              "1998    atatürk havalimanı katliamından gün milli yas ...\n",
              "1999    medipol başakşehir kulüp tarihinde şampiyonlar...\n",
              "Name: text, Length: 2000, dtype: object"
            ]
          },
          "metadata": {
            "tags": []
          },
          "execution_count": 152
        }
      ]
    },
    {
      "cell_type": "code",
      "metadata": {
        "id": "LbMcp2BQCIyd"
      },
      "source": [
        "all_set_feature=x_train.append(x_test)\r\n",
        "all_set_target=y_train.append(y_test)"
      ],
      "execution_count": 35,
      "outputs": []
    },
    {
      "cell_type": "code",
      "metadata": {
        "id": "d9A_-OlOYmft"
      },
      "source": [
        "from keras.preprocessing.text import Tokenizer\r\n",
        "tokenizer = Tokenizer(num_words=300)\r\n",
        "tokenizer.fit_on_texts(all_set_feature)"
      ],
      "execution_count": 113,
      "outputs": []
    },
    {
      "cell_type": "code",
      "metadata": {
        "id": "EaCt1wewaJ2T"
      },
      "source": [
        "Xtrain = tokenizer.texts_to_matrix(all_set_feature[:9000], mode='binary')\r\n",
        "Xtest = tokenizer.texts_to_matrix(all_set_feature[9000:], mode='binary')"
      ],
      "execution_count": 156,
      "outputs": []
    },
    {
      "cell_type": "code",
      "metadata": {
        "id": "7Lay6qtRaatA"
      },
      "source": [
        "model = Sequential()\r\n",
        "model.add(Input(300,))\r\n",
        "model.add(Dense(512,activation='swish'))\r\n",
        "model.add(Dense(256,activation='swish'))\r\n",
        "model.add(Dense(128,activation='swish'))\r\n",
        "model.add(Dense(64,activation='swish'))\r\n",
        "model.add(Dense(32,activation='swish'))\r\n",
        "model.add(Dense(5,activation='softmax'))\r\n",
        "model.compile(loss='categorical_crossentropy',optimizer='adam',metrics=['accuracy'])"
      ],
      "execution_count": 161,
      "outputs": []
    },
    {
      "cell_type": "code",
      "metadata": {
        "colab": {
          "base_uri": "https://localhost:8080/"
        },
        "id": "6FdO9eD6aOBg",
        "outputId": "45f42d30-89d7-41c4-babf-465258c84a1a"
      },
      "source": [
        "model.fit(Xtrain,pd.get_dummies(all_set_target[:9000]),validation_split=0.1,epochs=10, batch_size=1)"
      ],
      "execution_count": 162,
      "outputs": [
        {
          "output_type": "stream",
          "text": [
            "Epoch 1/10\n",
            "8100/8100 [==============================] - 27s 3ms/step - loss: 0.9015 - accuracy: 0.6632 - val_loss: 0.6621 - val_accuracy: 0.7756\n",
            "Epoch 2/10\n",
            "8100/8100 [==============================] - 27s 3ms/step - loss: 0.6366 - accuracy: 0.7755 - val_loss: 0.7048 - val_accuracy: 0.7567\n",
            "Epoch 3/10\n",
            "8100/8100 [==============================] - 27s 3ms/step - loss: 0.5454 - accuracy: 0.8054 - val_loss: 0.6212 - val_accuracy: 0.7567\n",
            "Epoch 4/10\n",
            "8100/8100 [==============================] - 31s 4ms/step - loss: 0.4740 - accuracy: 0.8317 - val_loss: 0.6663 - val_accuracy: 0.7711\n",
            "Epoch 5/10\n",
            "8100/8100 [==============================] - 28s 3ms/step - loss: 0.3955 - accuracy: 0.8575 - val_loss: 0.8122 - val_accuracy: 0.7567\n",
            "Epoch 6/10\n",
            "8100/8100 [==============================] - 27s 3ms/step - loss: 0.3454 - accuracy: 0.8845 - val_loss: 0.8570 - val_accuracy: 0.7700\n",
            "Epoch 7/10\n",
            "8100/8100 [==============================] - 25s 3ms/step - loss: 0.2635 - accuracy: 0.9142 - val_loss: 0.9163 - val_accuracy: 0.7711\n",
            "Epoch 8/10\n",
            "8100/8100 [==============================] - 28s 3ms/step - loss: 0.1984 - accuracy: 0.9330 - val_loss: 1.3816 - val_accuracy: 0.7500\n",
            "Epoch 9/10\n",
            "8100/8100 [==============================] - 25s 3ms/step - loss: 0.1539 - accuracy: 0.9498 - val_loss: 1.4333 - val_accuracy: 0.7622\n",
            "Epoch 10/10\n",
            "8100/8100 [==============================] - 28s 3ms/step - loss: 0.1435 - accuracy: 0.9704 - val_loss: 1.4104 - val_accuracy: 0.7567\n"
          ],
          "name": "stdout"
        },
        {
          "output_type": "execute_result",
          "data": {
            "text/plain": [
              "<tensorflow.python.keras.callbacks.History at 0x7f4573f357b8>"
            ]
          },
          "metadata": {
            "tags": []
          },
          "execution_count": 162
        }
      ]
    },
    {
      "cell_type": "code",
      "metadata": {
        "colab": {
          "base_uri": "https://localhost:8080/"
        },
        "id": "UsPdSIyubtlf",
        "outputId": "76857a2d-0e59-4bb3-fe1f-206f90079ce0"
      },
      "source": [
        "model.evaluate(Xtest,pd.get_dummies(all_set_target[9000:]))"
      ],
      "execution_count": 163,
      "outputs": [
        {
          "output_type": "stream",
          "text": [
            "32/32 [==============================] - 0s 4ms/step - loss: 1.5226 - accuracy: 0.7570\n"
          ],
          "name": "stdout"
        },
        {
          "output_type": "execute_result",
          "data": {
            "text/plain": [
              "[1.52255117893219, 0.7570000290870667]"
            ]
          },
          "metadata": {
            "tags": []
          },
          "execution_count": 163
        }
      ]
    },
    {
      "cell_type": "markdown",
      "metadata": {
        "id": "saHntxUzmmAc"
      },
      "source": [
        "### Simple CNN"
      ]
    },
    {
      "cell_type": "code",
      "metadata": {
        "id": "mCy5jkT2mlO2"
      },
      "source": [
        "# Padding the data samples to a maximum review length in words\r\n",
        "max_words = 450\r\n",
        "X_train = sequence.pad_sequences(tokenizer.texts_to_sequences(x_train), maxlen=max_words)\r\n",
        "X_test = sequence.pad_sequences(tokenizer.texts_to_sequences(x_test), maxlen=max_words)\r\n",
        "# Building the CNN Model\r\n",
        "model = Sequential()      # initilaizing the Sequential nature for CNN model\r\n",
        "# Adding the embedding layer which will take in maximum of 450 words as input and provide a 32 dimensional output of those words which belong in the top_words dictionary\r\n",
        "model.add(Embedding(7000, 32, input_length=max_words))\r\n",
        "model.add(Conv1D(64, 3, padding='same', activation='swish'))\r\n",
        "model.add(MaxPooling1D())\r\n",
        "model.add(Conv1D(32, 3, padding='same', activation='relu'))\r\n",
        "model.add(MaxPooling1D())\r\n",
        "model.add(Flatten())\r\n",
        "model.add(Dense(256, activation='swish'))\r\n",
        "model.add(Dense(128, activation='swish'))\r\n",
        "model.add(Dense(5, activation='softmax'))"
      ],
      "execution_count": 191,
      "outputs": []
    },
    {
      "cell_type": "code",
      "metadata": {
        "colab": {
          "base_uri": "https://localhost:8080/"
        },
        "id": "fdNHhLS-np2a",
        "outputId": "f151a39d-e772-4d29-8623-8bb561dcb7b5"
      },
      "source": [
        "model.compile(loss='categorical_crossentropy', optimizer='adam', metrics=['accuracy'])\r\n",
        "model.summary()"
      ],
      "execution_count": 192,
      "outputs": [
        {
          "output_type": "stream",
          "text": [
            "Model: \"sequential_32\"\n",
            "_________________________________________________________________\n",
            "Layer (type)                 Output Shape              Param #   \n",
            "=================================================================\n",
            "embedding_5 (Embedding)      (None, 450, 32)           224000    \n",
            "_________________________________________________________________\n",
            "conv1d_5 (Conv1D)            (None, 450, 64)           6208      \n",
            "_________________________________________________________________\n",
            "max_pooling1d_5 (MaxPooling1 (None, 225, 64)           0         \n",
            "_________________________________________________________________\n",
            "conv1d_6 (Conv1D)            (None, 225, 32)           6176      \n",
            "_________________________________________________________________\n",
            "max_pooling1d_6 (MaxPooling1 (None, 112, 32)           0         \n",
            "_________________________________________________________________\n",
            "flatten_5 (Flatten)          (None, 3584)              0         \n",
            "_________________________________________________________________\n",
            "dense_115 (Dense)            (None, 256)               917760    \n",
            "_________________________________________________________________\n",
            "dense_116 (Dense)            (None, 128)               32896     \n",
            "_________________________________________________________________\n",
            "dense_117 (Dense)            (None, 5)                 645       \n",
            "=================================================================\n",
            "Total params: 1,187,685\n",
            "Trainable params: 1,187,685\n",
            "Non-trainable params: 0\n",
            "_________________________________________________________________\n"
          ],
          "name": "stdout"
        }
      ]
    },
    {
      "cell_type": "code",
      "metadata": {
        "colab": {
          "base_uri": "https://localhost:8080/"
        },
        "id": "d7vLUcY0nsgc",
        "outputId": "12952e12-defe-4e97-a29c-2194e6b0d190"
      },
      "source": [
        "model.fit(X_train, pd.get_dummies(y_train), validation_split=0.1, epochs=5, batch_size=128, verbose=2)"
      ],
      "execution_count": 193,
      "outputs": [
        {
          "output_type": "stream",
          "text": [
            "Epoch 1/5\n",
            "57/57 - 10s - loss: 1.3282 - accuracy: 0.3988 - val_loss: 1.1916 - val_accuracy: 0.4663\n",
            "Epoch 2/5\n",
            "57/57 - 9s - loss: 1.0164 - accuracy: 0.5721 - val_loss: 0.8821 - val_accuracy: 0.6425\n",
            "Epoch 3/5\n",
            "57/57 - 10s - loss: 0.7679 - accuracy: 0.6819 - val_loss: 0.8274 - val_accuracy: 0.6637\n",
            "Epoch 4/5\n",
            "57/57 - 10s - loss: 0.6889 - accuracy: 0.7303 - val_loss: 0.7057 - val_accuracy: 0.7350\n",
            "Epoch 5/5\n",
            "57/57 - 9s - loss: 0.6070 - accuracy: 0.7667 - val_loss: 0.6529 - val_accuracy: 0.7513\n"
          ],
          "name": "stdout"
        },
        {
          "output_type": "execute_result",
          "data": {
            "text/plain": [
              "<tensorflow.python.keras.callbacks.History at 0x7f456a2c96a0>"
            ]
          },
          "metadata": {
            "tags": []
          },
          "execution_count": 193
        }
      ]
    },
    {
      "cell_type": "code",
      "metadata": {
        "colab": {
          "base_uri": "https://localhost:8080/"
        },
        "id": "OWNcJPSCoMXq",
        "outputId": "e3e2edf4-b04a-4e94-c0e5-005566ea0241"
      },
      "source": [
        "model.evaluate(X_test,pd.get_dummies(y_test))"
      ],
      "execution_count": 194,
      "outputs": [
        {
          "output_type": "stream",
          "text": [
            "63/63 [==============================] - 1s 14ms/step - loss: 0.6371 - accuracy: 0.7555\n"
          ],
          "name": "stdout"
        },
        {
          "output_type": "execute_result",
          "data": {
            "text/plain": [
              "[0.6371148228645325, 0.7555000185966492]"
            ]
          },
          "metadata": {
            "tags": []
          },
          "execution_count": 194
        }
      ]
    },
    {
      "cell_type": "markdown",
      "metadata": {
        "id": "IVBlpBWaDegp"
      },
      "source": [
        "These results are not bad and can be evaluated for future studies."
      ]
    },
    {
      "cell_type": "markdown",
      "metadata": {
        "id": "Eb_kWHCZG8c-"
      },
      "source": [
        "### CNN-rand"
      ]
    },
    {
      "cell_type": "code",
      "metadata": {
        "colab": {
          "base_uri": "https://localhost:8080/"
        },
        "id": "1SlRG_WzF_Vx",
        "outputId": "abd6412d-bc5a-4069-ea0d-031d5579bfc1"
      },
      "source": [
        "def rand_model():\r\n",
        "\r\n",
        "    inputs1 = Input(shape=(450, ))\r\n",
        "    embedding1 = Embedding(input_dim=7000,\r\n",
        "                           output_dim=32,\r\n",
        "                           trainable=True, input_length=450)(inputs1)\r\n",
        "    conv1 = Conv1D(filters=16, kernel_size=3, activation='relu'\r\n",
        "                   )(embedding1)\r\n",
        "    pool1 = MaxPooling1D()(conv1)\r\n",
        "    flat1 = Flatten()(pool1)\r\n",
        "\r\n",
        "    \r\n",
        "    conv2 = Conv1D(filters=16, kernel_size=4, activation='relu'\r\n",
        "                   )(embedding1)\r\n",
        "    pool2 = MaxPooling1D()(conv2)\r\n",
        "    flat2 = Flatten()(pool2)\r\n",
        "\r\n",
        "    \r\n",
        "    conv3 = Conv1D(filters=16, kernel_size=5, activation='relu'\r\n",
        "                   )(embedding1)\r\n",
        "    pool3 = MaxPooling1D()(conv3)\r\n",
        "    flat3 = Flatten()(pool3)\r\n",
        "    \r\n",
        "    # merge\r\n",
        "\r\n",
        "    merged = concatenate([flat1,flat2,flat3])\r\n",
        "\r\n",
        "    # interpretation\r\n",
        "    drop1 = Dropout(0.5)(merged)\r\n",
        "    dense1 = Dense(64, activation='relu')(drop1)\r\n",
        "    outputs = Dense(5, activation='softmax')(dense1)\r\n",
        "    model = Model(inputs=[inputs1], outputs=outputs)\r\n",
        "\r\n",
        "    # compile\r\n",
        "\r\n",
        "    model.compile(loss='categorical_crossentropy', optimizer='adam',metrics=['accuracy'])\r\n",
        "\r\n",
        "    # summarize\r\n",
        "\r\n",
        "    print(model.summary())\r\n",
        "    return model\r\n",
        "model = rand_model()\r\n",
        "model.fit(X_train, pd.get_dummies(y_train), validation_split=0.1, epochs=5, batch_size=128, verbose=2)"
      ],
      "execution_count": 205,
      "outputs": [
        {
          "output_type": "stream",
          "text": [
            "Model: \"model\"\n",
            "__________________________________________________________________________________________________\n",
            "Layer (type)                    Output Shape         Param #     Connected to                     \n",
            "==================================================================================================\n",
            "input_31 (InputLayer)           [(None, 450)]        0                                            \n",
            "__________________________________________________________________________________________________\n",
            "embedding_10 (Embedding)        (None, 450, 32)      224000      input_31[0][0]                   \n",
            "__________________________________________________________________________________________________\n",
            "conv1d_17 (Conv1D)              (None, 448, 16)      1552        embedding_10[0][0]               \n",
            "__________________________________________________________________________________________________\n",
            "conv1d_18 (Conv1D)              (None, 447, 16)      2064        embedding_10[0][0]               \n",
            "__________________________________________________________________________________________________\n",
            "conv1d_19 (Conv1D)              (None, 446, 16)      2576        embedding_10[0][0]               \n",
            "__________________________________________________________________________________________________\n",
            "max_pooling1d_16 (MaxPooling1D) (None, 224, 16)      0           conv1d_17[0][0]                  \n",
            "__________________________________________________________________________________________________\n",
            "max_pooling1d_17 (MaxPooling1D) (None, 223, 16)      0           conv1d_18[0][0]                  \n",
            "__________________________________________________________________________________________________\n",
            "max_pooling1d_18 (MaxPooling1D) (None, 223, 16)      0           conv1d_19[0][0]                  \n",
            "__________________________________________________________________________________________________\n",
            "flatten_15 (Flatten)            (None, 3584)         0           max_pooling1d_16[0][0]           \n",
            "__________________________________________________________________________________________________\n",
            "flatten_16 (Flatten)            (None, 3568)         0           max_pooling1d_17[0][0]           \n",
            "__________________________________________________________________________________________________\n",
            "flatten_17 (Flatten)            (None, 3568)         0           max_pooling1d_18[0][0]           \n",
            "__________________________________________________________________________________________________\n",
            "concatenate_2 (Concatenate)     (None, 10720)        0           flatten_15[0][0]                 \n",
            "                                                                 flatten_16[0][0]                 \n",
            "                                                                 flatten_17[0][0]                 \n",
            "__________________________________________________________________________________________________\n",
            "dropout_1 (Dropout)             (None, 10720)        0           concatenate_2[0][0]              \n",
            "__________________________________________________________________________________________________\n",
            "dense_120 (Dense)               (None, 64)           686144      dropout_1[0][0]                  \n",
            "__________________________________________________________________________________________________\n",
            "dense_121 (Dense)               (None, 5)            325         dense_120[0][0]                  \n",
            "==================================================================================================\n",
            "Total params: 916,661\n",
            "Trainable params: 916,661\n",
            "Non-trainable params: 0\n",
            "__________________________________________________________________________________________________\n",
            "None\n",
            "Epoch 1/5\n",
            "57/57 - 12s - loss: 1.2864 - accuracy: 0.4306 - val_loss: 1.0971 - val_accuracy: 0.5200\n",
            "Epoch 2/5\n",
            "57/57 - 11s - loss: 0.9132 - accuracy: 0.6408 - val_loss: 0.7515 - val_accuracy: 0.7000\n",
            "Epoch 3/5\n",
            "57/57 - 11s - loss: 0.6805 - accuracy: 0.7408 - val_loss: 0.6626 - val_accuracy: 0.7550\n",
            "Epoch 4/5\n",
            "57/57 - 11s - loss: 0.5943 - accuracy: 0.7786 - val_loss: 0.6457 - val_accuracy: 0.7538\n",
            "Epoch 5/5\n",
            "57/57 - 11s - loss: 0.5400 - accuracy: 0.8028 - val_loss: 0.6048 - val_accuracy: 0.7825\n"
          ],
          "name": "stdout"
        },
        {
          "output_type": "execute_result",
          "data": {
            "text/plain": [
              "<tensorflow.python.keras.callbacks.History at 0x7f4568ef0550>"
            ]
          },
          "metadata": {
            "tags": []
          },
          "execution_count": 205
        }
      ]
    },
    {
      "cell_type": "code",
      "metadata": {
        "colab": {
          "base_uri": "https://localhost:8080/"
        },
        "id": "yX_cB-QeGwbc",
        "outputId": "08ff354e-ba92-41fa-85f1-c001fe731ad4"
      },
      "source": [
        "model.evaluate(X_test,pd.get_dummies(y_test))"
      ],
      "execution_count": 206,
      "outputs": [
        {
          "output_type": "stream",
          "text": [
            "63/63 [==============================] - 1s 13ms/step - loss: 0.5929 - accuracy: 0.7805\n"
          ],
          "name": "stdout"
        },
        {
          "output_type": "execute_result",
          "data": {
            "text/plain": [
              "[0.592906653881073, 0.7804999947547913]"
            ]
          },
          "metadata": {
            "tags": []
          },
          "execution_count": 206
        }
      ]
    },
    {
      "cell_type": "markdown",
      "metadata": {
        "id": "7QEV3ofZHnDa"
      },
      "source": [
        "### CNN-static"
      ]
    },
    {
      "cell_type": "code",
      "metadata": {
        "colab": {
          "base_uri": "https://localhost:8080/"
        },
        "id": "W1edhtt9G-f4",
        "outputId": "de638546-597e-442a-e031-479f477710e0"
      },
      "source": [
        "def static_model():\r\n",
        "\r\n",
        "    # channel 1\r\n",
        "\r\n",
        "    inputs1 = Input(shape=(450, ))\r\n",
        "    embedding1 = Embedding(input_dim=pretrained_weight_2.shape[0],\r\n",
        "                           output_dim=400,\r\n",
        "                           weights=[pretrained_weight_2],\r\n",
        "                           trainable=False, input_length=450)(inputs1)\r\n",
        "    conv1 = Conv1D(filters=16, kernel_size=2, activation='relu'\r\n",
        "                   )(embedding1)\r\n",
        "    pool1 = GlobalMaxPooling1D()(conv1)\r\n",
        "\r\n",
        "    flat1 = Flatten()(pool1)\r\n",
        "\r\n",
        "    \r\n",
        "    conv2 = Conv1D(filters=16, kernel_size=3, activation='relu'\r\n",
        "                   )(embedding1)\r\n",
        "    pool2 = GlobalMaxPooling1D()(conv2)\r\n",
        "    flat2 = Flatten()(pool2)\r\n",
        "\r\n",
        "    \r\n",
        "    conv3 = Conv1D(filters=16, kernel_size=4, activation='relu'\r\n",
        "                   )(embedding1)\r\n",
        "    pool3 = GlobalMaxPooling1D()(conv3)\r\n",
        "\r\n",
        "    flat3 = Flatten()(pool3)\r\n",
        "\r\n",
        "    # merge\r\n",
        "\r\n",
        "    merged = concatenate([flat1,flat2,flat3])\r\n",
        "\r\n",
        "    # interpretation\r\n",
        "    dense = Dense(32, activation='relu')(merged)\r\n",
        "    drop1 = Dropout(0.2)(dense)\r\n",
        "    outputs = Dense(5, activation='softmax')(drop1)\r\n",
        "    model = Model(inputs=[inputs1], outputs=outputs)\r\n",
        "\r\n",
        "    # compile\r\n",
        "\r\n",
        "    model.compile(loss='categorical_crossentropy', optimizer='adam',\r\n",
        "                  metrics=['accuracy'])\r\n",
        "\r\n",
        "    # summarize\r\n",
        "\r\n",
        "    print(model.summary())\r\n",
        "    return model\r\n",
        "model = static_model()\r\n",
        "model.fit(X_train, pd.get_dummies(y_train), validation_split=0.1, epochs=5, batch_size=128, verbose=2)"
      ],
      "execution_count": 218,
      "outputs": [
        {
          "output_type": "stream",
          "text": [
            "Model: \"model_2\"\n",
            "__________________________________________________________________________________________________\n",
            "Layer (type)                    Output Shape         Param #     Connected to                     \n",
            "==================================================================================================\n",
            "input_36 (InputLayer)           [(None, 450)]        0                                            \n",
            "__________________________________________________________________________________________________\n",
            "embedding_13 (Embedding)        (None, 450, 400)     164982800   input_36[0][0]                   \n",
            "__________________________________________________________________________________________________\n",
            "conv1d_24 (Conv1D)              (None, 449, 16)      12816       embedding_13[0][0]               \n",
            "__________________________________________________________________________________________________\n",
            "conv1d_25 (Conv1D)              (None, 448, 16)      19216       embedding_13[0][0]               \n",
            "__________________________________________________________________________________________________\n",
            "conv1d_26 (Conv1D)              (None, 447, 16)      25616       embedding_13[0][0]               \n",
            "__________________________________________________________________________________________________\n",
            "global_max_pooling1d (GlobalMax (None, 16)           0           conv1d_24[0][0]                  \n",
            "__________________________________________________________________________________________________\n",
            "global_max_pooling1d_1 (GlobalM (None, 16)           0           conv1d_25[0][0]                  \n",
            "__________________________________________________________________________________________________\n",
            "global_max_pooling1d_2 (GlobalM (None, 16)           0           conv1d_26[0][0]                  \n",
            "__________________________________________________________________________________________________\n",
            "flatten_21 (Flatten)            (None, 16)           0           global_max_pooling1d[0][0]       \n",
            "__________________________________________________________________________________________________\n",
            "flatten_22 (Flatten)            (None, 16)           0           global_max_pooling1d_1[0][0]     \n",
            "__________________________________________________________________________________________________\n",
            "flatten_23 (Flatten)            (None, 16)           0           global_max_pooling1d_2[0][0]     \n",
            "__________________________________________________________________________________________________\n",
            "concatenate_4 (Concatenate)     (None, 48)           0           flatten_21[0][0]                 \n",
            "                                                                 flatten_22[0][0]                 \n",
            "                                                                 flatten_23[0][0]                 \n",
            "__________________________________________________________________________________________________\n",
            "dense_124 (Dense)               (None, 32)           1568        concatenate_4[0][0]              \n",
            "__________________________________________________________________________________________________\n",
            "dropout_3 (Dropout)             (None, 32)           0           dense_124[0][0]                  \n",
            "__________________________________________________________________________________________________\n",
            "dense_125 (Dense)               (None, 5)            165         dropout_3[0][0]                  \n",
            "==================================================================================================\n",
            "Total params: 165,042,181\n",
            "Trainable params: 59,381\n",
            "Non-trainable params: 164,982,800\n",
            "__________________________________________________________________________________________________\n",
            "None\n",
            "Epoch 1/5\n",
            "57/57 - 53s - loss: 1.4905 - accuracy: 0.4886 - val_loss: 0.8905 - val_accuracy: 0.6637\n",
            "Epoch 2/5\n",
            "57/57 - 50s - loss: 0.8251 - accuracy: 0.6865 - val_loss: 0.7727 - val_accuracy: 0.7225\n",
            "Epoch 3/5\n",
            "57/57 - 50s - loss: 0.6652 - accuracy: 0.7517 - val_loss: 0.7465 - val_accuracy: 0.7237\n",
            "Epoch 4/5\n",
            "57/57 - 51s - loss: 0.5827 - accuracy: 0.7833 - val_loss: 0.7478 - val_accuracy: 0.7300\n",
            "Epoch 5/5\n",
            "57/57 - 50s - loss: 0.5103 - accuracy: 0.8175 - val_loss: 0.7356 - val_accuracy: 0.7300\n"
          ],
          "name": "stdout"
        },
        {
          "output_type": "execute_result",
          "data": {
            "text/plain": [
              "<tensorflow.python.keras.callbacks.History at 0x7f45553db7f0>"
            ]
          },
          "metadata": {
            "tags": []
          },
          "execution_count": 218
        }
      ]
    },
    {
      "cell_type": "code",
      "metadata": {
        "colab": {
          "base_uri": "https://localhost:8080/"
        },
        "id": "dKNESLmjHfHt",
        "outputId": "59f79449-f266-459e-94fc-44b64c99f2a9"
      },
      "source": [
        "model.evaluate(X_test,pd.get_dummies(y_test))"
      ],
      "execution_count": 219,
      "outputs": [
        {
          "output_type": "stream",
          "text": [
            "63/63 [==============================] - 4s 67ms/step - loss: 0.7283 - accuracy: 0.7235\n"
          ],
          "name": "stdout"
        },
        {
          "output_type": "execute_result",
          "data": {
            "text/plain": [
              "[0.7282633185386658, 0.7235000133514404]"
            ]
          },
          "metadata": {
            "tags": []
          },
          "execution_count": 219
        }
      ]
    },
    {
      "cell_type": "markdown",
      "metadata": {
        "id": "e1SPGUb3Hkys"
      },
      "source": [
        "### CNN-non-static"
      ]
    },
    {
      "cell_type": "code",
      "metadata": {
        "colab": {
          "base_uri": "https://localhost:8080/"
        },
        "id": "6z40SMwoHxDd",
        "outputId": "8e5de05b-33b1-4bcd-919a-db71ff63ea70"
      },
      "source": [
        "def non_static_model():\r\n",
        "\r\n",
        "    # channel 1\r\n",
        "\r\n",
        "    inputs1 = Input(shape=(450, ))\r\n",
        "    embedding1 = Embedding(input_dim=pretrained_weight_2.shape[0],\r\n",
        "                           output_dim=400,\r\n",
        "                           weights=[pretrained_weight_2],\r\n",
        "                           trainable=True, input_length=450)(inputs1)\r\n",
        "    conv1 = Conv1D(filters=32, kernel_size=2, activation='relu'\r\n",
        "                   )(embedding1)\r\n",
        "    pool1 = GlobalMaxPooling1D()(conv1)\r\n",
        "    flat1 = Flatten()(pool1)\r\n",
        "\r\n",
        "    \r\n",
        "    conv2 = Conv1D(filters=32, kernel_size=3, activation='relu'\r\n",
        "                   )(embedding1)\r\n",
        "    pool2 = GlobalMaxPooling1D()(conv2)\r\n",
        "    flat2 = Flatten()(pool2)\r\n",
        "\r\n",
        "    \r\n",
        "    conv3 = Conv1D(filters=32, kernel_size=4, activation='relu'\r\n",
        "                   )(embedding1)\r\n",
        "    pool3 = GlobalMaxPooling1D()(conv3)\r\n",
        "    flat3 = Flatten()(pool3)\r\n",
        "\r\n",
        "    # merge\r\n",
        "\r\n",
        "    merged = concatenate([flat1,flat2,flat3])\r\n",
        "\r\n",
        "    # interpretation\r\n",
        "    dense = Dense(32, activation='relu')(merged)\r\n",
        "    drop1 = Dropout(0.2)(dense)\r\n",
        "    outputs = Dense(5, activation='softmax')(drop1)\r\n",
        "    model = Model(inputs=[inputs1], outputs=outputs)\r\n",
        "\r\n",
        "    # compile\r\n",
        "\r\n",
        "    model.compile(loss='categorical_crossentropy', optimizer='adam',\r\n",
        "                  metrics=['accuracy'])\r\n",
        "\r\n",
        "    # summarize\r\n",
        "\r\n",
        "    print(model.summary())\r\n",
        "    return model\r\n",
        "model = non_static_model()\r\n",
        "model.fit(X_train, pd.get_dummies(y_train), validation_split=0.1, epochs=5, batch_size=128, verbose=2)"
      ],
      "execution_count": 224,
      "outputs": [
        {
          "output_type": "stream",
          "text": [
            "Model: \"model_4\"\n",
            "__________________________________________________________________________________________________\n",
            "Layer (type)                    Output Shape         Param #     Connected to                     \n",
            "==================================================================================================\n",
            "input_39 (InputLayer)           [(None, 450)]        0                                            \n",
            "__________________________________________________________________________________________________\n",
            "embedding_15 (Embedding)        (None, 450, 400)     164982800   input_39[0][0]                   \n",
            "__________________________________________________________________________________________________\n",
            "conv1d_30 (Conv1D)              (None, 449, 32)      25632       embedding_15[0][0]               \n",
            "__________________________________________________________________________________________________\n",
            "conv1d_31 (Conv1D)              (None, 448, 32)      38432       embedding_15[0][0]               \n",
            "__________________________________________________________________________________________________\n",
            "conv1d_32 (Conv1D)              (None, 447, 32)      51232       embedding_15[0][0]               \n",
            "__________________________________________________________________________________________________\n",
            "global_max_pooling1d_6 (GlobalM (None, 32)           0           conv1d_30[0][0]                  \n",
            "__________________________________________________________________________________________________\n",
            "global_max_pooling1d_7 (GlobalM (None, 32)           0           conv1d_31[0][0]                  \n",
            "__________________________________________________________________________________________________\n",
            "global_max_pooling1d_8 (GlobalM (None, 32)           0           conv1d_32[0][0]                  \n",
            "__________________________________________________________________________________________________\n",
            "flatten_27 (Flatten)            (None, 32)           0           global_max_pooling1d_6[0][0]     \n",
            "__________________________________________________________________________________________________\n",
            "flatten_28 (Flatten)            (None, 32)           0           global_max_pooling1d_7[0][0]     \n",
            "__________________________________________________________________________________________________\n",
            "flatten_29 (Flatten)            (None, 32)           0           global_max_pooling1d_8[0][0]     \n",
            "__________________________________________________________________________________________________\n",
            "concatenate_6 (Concatenate)     (None, 96)           0           flatten_27[0][0]                 \n",
            "                                                                 flatten_28[0][0]                 \n",
            "                                                                 flatten_29[0][0]                 \n",
            "__________________________________________________________________________________________________\n",
            "dense_128 (Dense)               (None, 32)           3104        concatenate_6[0][0]              \n",
            "__________________________________________________________________________________________________\n",
            "dropout_5 (Dropout)             (None, 32)           0           dense_128[0][0]                  \n",
            "__________________________________________________________________________________________________\n",
            "dense_129 (Dense)               (None, 5)            165         dropout_5[0][0]                  \n",
            "==================================================================================================\n",
            "Total params: 165,101,365\n",
            "Trainable params: 165,101,365\n",
            "Non-trainable params: 0\n",
            "__________________________________________________________________________________________________\n",
            "None\n",
            "Epoch 1/5\n",
            "57/57 - 180s - loss: 1.4235 - accuracy: 0.5231 - val_loss: 0.8317 - val_accuracy: 0.6925\n",
            "Epoch 2/5\n",
            "57/57 - 176s - loss: 0.7280 - accuracy: 0.7290 - val_loss: 0.7546 - val_accuracy: 0.7362\n",
            "Epoch 3/5\n",
            "57/57 - 179s - loss: 0.5528 - accuracy: 0.7981 - val_loss: 0.7544 - val_accuracy: 0.7350\n",
            "Epoch 4/5\n",
            "57/57 - 182s - loss: 0.4659 - accuracy: 0.8360 - val_loss: 0.7461 - val_accuracy: 0.7425\n",
            "Epoch 5/5\n",
            "57/57 - 183s - loss: 0.3818 - accuracy: 0.8657 - val_loss: 0.7837 - val_accuracy: 0.7487\n"
          ],
          "name": "stdout"
        },
        {
          "output_type": "execute_result",
          "data": {
            "text/plain": [
              "<tensorflow.python.keras.callbacks.History at 0x7f4551660128>"
            ]
          },
          "metadata": {
            "tags": []
          },
          "execution_count": 224
        }
      ]
    },
    {
      "cell_type": "code",
      "metadata": {
        "colab": {
          "base_uri": "https://localhost:8080/"
        },
        "id": "yBFUUe8PJ9Hj",
        "outputId": "e99bb290-64c2-490b-e7e8-abbad8a439fe"
      },
      "source": [
        "model.evaluate(X_test,pd.get_dummies(y_test))"
      ],
      "execution_count": 226,
      "outputs": [
        {
          "output_type": "stream",
          "text": [
            "63/63 [==============================] - 6s 96ms/step - loss: 0.7021 - accuracy: 0.7485\n"
          ],
          "name": "stdout"
        },
        {
          "output_type": "execute_result",
          "data": {
            "text/plain": [
              "[0.7020707130432129, 0.7484999895095825]"
            ]
          },
          "metadata": {
            "tags": []
          },
          "execution_count": 226
        }
      ]
    }
  ]
}